{
 "cells": [
  {
   "cell_type": "code",
   "execution_count": 39,
   "id": "dfe40b3e-2ca6-48ee-884f-325fc5509f0d",
   "metadata": {
    "id": "dfe40b3e-2ca6-48ee-884f-325fc5509f0d"
   },
   "outputs": [],
   "source": [
    "import pandas as pd\n",
    "import matplotlib.pyplot as plt"
   ]
  },
  {
   "cell_type": "markdown",
   "id": "50741fce-4a73-4c5a-8dad-10a7f9fa622b",
   "metadata": {
    "id": "50741fce-4a73-4c5a-8dad-10a7f9fa622b"
   },
   "source": [
    "                                                    Importamos los data set"
   ]
  },
  {
   "cell_type": "code",
   "execution_count": 40,
   "id": "033f2b89-3968-4a64-acea-9b0d5e79571c",
   "metadata": {
    "executionInfo": {
     "elapsed": 276,
     "status": "ok",
     "timestamp": 1760051847356,
     "user": {
      "displayName": "Manuel Ontiveros",
      "userId": "15288118601497862144"
     },
     "user_tz": 180
    },
    "id": "033f2b89-3968-4a64-acea-9b0d5e79571c"
   },
   "outputs": [],
   "source": [
    "df_sales = pd.read_csv('sales_data.csv')\n",
    "df_customers = pd.read_csv('customer_data.csv')"
   ]
  },
  {
   "cell_type": "markdown",
   "id": "245ba3a1-efaf-470d-8a41-fd47f8aaa5d3",
   "metadata": {
    "id": "245ba3a1-efaf-470d-8a41-fd47f8aaa5d3"
   },
   "source": [
    "                                           #Analisis Exploratorio de df_customer#\n",
    "\n",
    "- Dimensiones del Data Frame (DF en adelante).\n",
    "\n",
    "- Header del DF.\n",
    "\n",
    "- Info del DF (Permite saber si existen valores nulos, el tipo de los datos contenidos y una vista con mas\n",
    " detalle de las columnas).\n"
   ]
  },
  {
   "cell_type": "code",
   "execution_count": 41,
   "id": "ee8634b0-d312-4836-bf3f-0d590078f057",
   "metadata": {
    "colab": {
     "base_uri": "https://localhost:8080/"
    },
    "executionInfo": {
     "elapsed": 59,
     "status": "ok",
     "timestamp": 1760051852804,
     "user": {
      "displayName": "Manuel Ontiveros",
      "userId": "15288118601497862144"
     },
     "user_tz": 180
    },
    "id": "ee8634b0-d312-4836-bf3f-0d590078f057",
    "outputId": "c07f06ba-02fc-4cd3-8366-395c1c80936a"
   },
   "outputs": [
    {
     "name": "stdout",
     "output_type": "stream",
     "text": [
      "--- Caracteristicas del DataFrame Customers ---\n",
      "(99457, 4)\n",
      "  customer_id  gender   age payment_method\n",
      "0     C241288  Female  28.0    Credit Card\n",
      "1     C111565    Male  21.0     Debit Card\n",
      "2     C266599    Male  20.0           Cash\n",
      "3     C988172  Female  66.0    Credit Card\n",
      "4     C189076  Female  53.0           Cash\n",
      "<class 'pandas.core.frame.DataFrame'>\n",
      "RangeIndex: 99457 entries, 0 to 99456\n",
      "Data columns (total 4 columns):\n",
      " #   Column          Non-Null Count  Dtype  \n",
      "---  ------          --------------  -----  \n",
      " 0   customer_id     99457 non-null  object \n",
      " 1   gender          99457 non-null  object \n",
      " 2   age             99338 non-null  float64\n",
      " 3   payment_method  99457 non-null  object \n",
      "dtypes: float64(1), object(3)\n",
      "memory usage: 3.0+ MB\n",
      "None\n"
     ]
    }
   ],
   "source": [
    "print('--- Caracteristicas del DataFrame Customers ---')\n",
    "\n",
    "print(df_customers.shape)\n",
    "\n",
    "print(df_customers.head())\n",
    "\n",
    "print(df_customers.info())"
   ]
  },
  {
   "cell_type": "markdown",
   "id": "b0bd168d-435b-49d3-b40f-fead2b2686a3",
   "metadata": {
    "id": "b0bd168d-435b-49d3-b40f-fead2b2686a3"
   },
   "source": [
    "                                                    #Informacion sobre Customers\n",
    "                                                        \n",
    "                                                        ## Dimensiones\n",
    "\n",
    "- 4 Columnas y 99457 Filas.\n",
    "\n",
    "                                                        ## Encabezados\n",
    "\n",
    "- customer_id (object), gender(object), age(float64) y payment_method (object).\n",
    "\n",
    "- Ninguno contiene valores nulos"
   ]
  },
  {
   "cell_type": "markdown",
   "id": "f541c49f-d3f7-426b-b446-6b61afe840f1",
   "metadata": {
    "id": "f541c49f-d3f7-426b-b446-6b61afe840f1"
   },
   "source": [
    "                                                  #Modificaciones al DF Customers\n",
    "_Previo a realizar cambios creamos un nuevo DF que nos permita conservar inmutables los originales. Luego procedemos a realizar lo siguiente_\n",
    "- Cambiar el tipo de datos de object a string.\n",
    "- Reordenar el DF en base a la columna costumer_id.\n",
    "- Poner los nombres de las columnas en mayusculas (luego podran ser usados como las etiquetas de graficos).\n",
    "- Chequear si existen valores duplicados para customer_id.\n",
    "\n"
   ]
  },
  {
   "cell_type": "markdown",
   "id": "579baf56-4793-4af0-8d00-06b5a65e740f",
   "metadata": {
    "id": "579baf56-4793-4af0-8d00-06b5a65e740f"
   },
   "source": [
    "                                             ### Cambiar el tipo de datos de object a string"
   ]
  },
  {
   "cell_type": "code",
   "execution_count": 42,
   "id": "4f71eea4-eae4-4b1b-857c-6b9c078949a0",
   "metadata": {
    "colab": {
     "base_uri": "https://localhost:8080/"
    },
    "executionInfo": {
     "elapsed": 12,
     "status": "ok",
     "timestamp": 1760051856947,
     "user": {
      "displayName": "Manuel Ontiveros",
      "userId": "15288118601497862144"
     },
     "user_tz": 180
    },
    "id": "4f71eea4-eae4-4b1b-857c-6b9c078949a0",
    "outputId": "855fb0c9-96fa-4227-9da4-b062ed721287"
   },
   "outputs": [
    {
     "name": "stdout",
     "output_type": "stream",
     "text": [
      "customer_id        object\n",
      "gender             object\n",
      "age               float64\n",
      "payment_method     object\n",
      "dtype: object\n",
      "<class 'str'>\n",
      "<class 'str'>\n",
      "<class 'str'>\n"
     ]
    }
   ],
   "source": [
    "df_compradores = df_customers\n",
    "df_compradores = df_compradores.astype({'customer_id':'str','gender':'str', 'payment_method':'str'})\n",
    "print(df_compradores.dtypes)\n",
    "'''En Pandas object almacena cadenas de texto (str) razon por la cual el print anterior los sigue\n",
    "mostrando como object, induciendonos al error de que no tuve efecto el .astype. Para corroborarlo, debemos\n",
    "pedir el tipo de dato, columna por columna.'''\n",
    "print(type(df_compradores['customer_id'].iloc[0]))\n",
    "print(type(df_compradores['gender'].iloc[1]))\n",
    "print(type(df_compradores['payment_method'].iloc[3]))"
   ]
  },
  {
   "cell_type": "markdown",
   "id": "1ae2d144-d84b-4acf-8314-4364adae3e39",
   "metadata": {
    "id": "1ae2d144-d84b-4acf-8314-4364adae3e39"
   },
   "source": [
    "                                      ### Reordenar el DF en base a la columna costumer_id"
   ]
  },
  {
   "cell_type": "code",
   "execution_count": 43,
   "id": "bb364357-72fe-49a0-a20a-85df0b894c0b",
   "metadata": {
    "colab": {
     "base_uri": "https://localhost:8080/"
    },
    "executionInfo": {
     "elapsed": 151,
     "status": "ok",
     "timestamp": 1760051859386,
     "user": {
      "displayName": "Manuel Ontiveros",
      "userId": "15288118601497862144"
     },
     "user_tz": 180
    },
    "id": "bb364357-72fe-49a0-a20a-85df0b894c0b",
    "outputId": "e0db843d-ff3d-45fa-965c-91614277e1a6"
   },
   "outputs": [
    {
     "name": "stdout",
     "output_type": "stream",
     "text": [
      "      customer_id  gender   age payment_method\n",
      "42195     C100004    Male  61.0    Credit Card\n",
      "80560     C100005    Male  34.0           Cash\n",
      "13070     C100006    Male  44.0    Credit Card\n",
      "53587     C100012    Male  25.0           Cash\n",
      "4073      C100019  Female  21.0    Credit Card\n"
     ]
    }
   ],
   "source": [
    "df_compradores = df_compradores.sort_values(by='customer_id')\n",
    "print(df_compradores.head())"
   ]
  },
  {
   "cell_type": "markdown",
   "id": "dd7aa1a0-0ebf-4e74-bcda-88988e045967",
   "metadata": {
    "id": "dd7aa1a0-0ebf-4e74-bcda-88988e045967"
   },
   "source": [
    "                                         ### Poner los nombres de las columnas en mayusculas"
   ]
  },
  {
   "cell_type": "code",
   "execution_count": 44,
   "id": "067843bd-bf02-4a3c-812b-d27184517242",
   "metadata": {
    "colab": {
     "base_uri": "https://localhost:8080/"
    },
    "executionInfo": {
     "elapsed": 6,
     "status": "ok",
     "timestamp": 1760051860966,
     "user": {
      "displayName": "Manuel Ontiveros",
      "userId": "15288118601497862144"
     },
     "user_tz": 180
    },
    "id": "067843bd-bf02-4a3c-812b-d27184517242",
    "outputId": "ca26ca44-1c39-49b5-a715-599743024902"
   },
   "outputs": [
    {
     "name": "stdout",
     "output_type": "stream",
     "text": [
      "      CUSTOMER_ID  GENDER   AGE PAYMENT_METHOD\n",
      "42195     C100004    Male  61.0    Credit Card\n",
      "80560     C100005    Male  34.0           Cash\n",
      "13070     C100006    Male  44.0    Credit Card\n",
      "53587     C100012    Male  25.0           Cash\n",
      "4073      C100019  Female  21.0    Credit Card\n"
     ]
    }
   ],
   "source": [
    "df_compradores.columns = df_compradores.columns.str.upper()\n",
    "print(df_compradores.head())"
   ]
  },
  {
   "cell_type": "markdown",
   "id": "ff3876c4-d8f9-45aa-b07c-6134ea12c2a6",
   "metadata": {
    "id": "ff3876c4-d8f9-45aa-b07c-6134ea12c2a6"
   },
   "source": [
    "                                         ### Chequear si existen valores duplicados para customer_id"
   ]
  },
  {
   "cell_type": "code",
   "execution_count": 45,
   "id": "4e373759-2837-4bfb-ae11-73e5b11ac969",
   "metadata": {
    "colab": {
     "base_uri": "https://localhost:8080/"
    },
    "executionInfo": {
     "elapsed": 56,
     "status": "ok",
     "timestamp": 1760051863093,
     "user": {
      "displayName": "Manuel Ontiveros",
      "userId": "15288118601497862144"
     },
     "user_tz": 180
    },
    "id": "4e373759-2837-4bfb-ae11-73e5b11ac969",
    "outputId": "32a6399e-cfdf-4aba-e639-4560c2a3910c"
   },
   "outputs": [
    {
     "name": "stdout",
     "output_type": "stream",
     "text": [
      "Número total de filas con un 'customer_id' duplicado: 0\n"
     ]
    }
   ],
   "source": [
    "duplicados = df_compradores['CUSTOMER_ID'].duplicated(keep=False)\n",
    "\n",
    "total_duplicados = duplicados.sum()\n",
    "\n",
    "print(f\"Número total de filas con un 'customer_id' duplicado: {total_duplicados}\")"
   ]
  },
  {
   "cell_type": "markdown",
   "id": "5006a418-b4b8-4da7-879f-f9caea2260ce",
   "metadata": {
    "id": "5006a418-b4b8-4da7-879f-f9caea2260ce"
   },
   "source": [
    "                                              # Analisis Exploratorio de df_sales\n",
    "- Dimensiones del Data Frame.\n",
    "\n",
    "- Header del DF.\n",
    "\n",
    "- Info del DF."
   ]
  },
  {
   "cell_type": "code",
   "execution_count": 46,
   "id": "46c7aeea-33ab-4545-9b99-c5be471628c4",
   "metadata": {
    "colab": {
     "base_uri": "https://localhost:8080/"
    },
    "executionInfo": {
     "elapsed": 23,
     "status": "ok",
     "timestamp": 1760051957644,
     "user": {
      "displayName": "Manuel Ontiveros",
      "userId": "15288118601497862144"
     },
     "user_tz": 180
    },
    "id": "46c7aeea-33ab-4545-9b99-c5be471628c4",
    "outputId": "f3b22338-94f0-493b-80f3-6410d002d7fb"
   },
   "outputs": [
    {
     "name": "stdout",
     "output_type": "stream",
     "text": [
      "--- Caracteristicas del DataFrame Sales ---\n",
      "(99457, 7)\n",
      "  invoice_no customer_id  category  quantity    price invoice_date  \\\n",
      "0    I138884     C241288  Clothing         5  1500.40   05-08-2022   \n",
      "1    I317333     C111565     Shoes         3  1800.51   12-12-2021   \n",
      "2    I127801     C266599  Clothing         1   300.08   09-11-2021   \n",
      "3    I173702     C988172     Shoes         5  3000.85   16-05-2021   \n",
      "4    I337046     C189076     Books         4    60.60   24-10-2021   \n",
      "\n",
      "    shopping_mall  \n",
      "0          Kanyon  \n",
      "1  Forum Istanbul  \n",
      "2       Metrocity  \n",
      "3    Metropol AVM  \n",
      "4          Kanyon  \n",
      "<class 'pandas.core.frame.DataFrame'>\n",
      "RangeIndex: 99457 entries, 0 to 99456\n",
      "Data columns (total 7 columns):\n",
      " #   Column         Non-Null Count  Dtype  \n",
      "---  ------         --------------  -----  \n",
      " 0   invoice_no     99457 non-null  object \n",
      " 1   customer_id    99457 non-null  object \n",
      " 2   category       99457 non-null  object \n",
      " 3   quantity       99457 non-null  int64  \n",
      " 4   price          99457 non-null  float64\n",
      " 5   invoice_date   99457 non-null  object \n",
      " 6   shopping_mall  99457 non-null  object \n",
      "dtypes: float64(1), int64(1), object(5)\n",
      "memory usage: 5.3+ MB\n",
      "None\n"
     ]
    }
   ],
   "source": [
    "print('--- Caracteristicas del DataFrame Sales ---')\n",
    "\n",
    "print(df_sales.shape)\n",
    "\n",
    "print(df_sales.head())\n",
    "\n",
    "print(df_sales.info())"
   ]
  },
  {
   "cell_type": "markdown",
   "id": "44039c67-aee8-4d05-a355-41ebf161e5ca",
   "metadata": {
    "id": "44039c67-aee8-4d05-a355-41ebf161e5ca"
   },
   "source": [
    "                                                #Informacion sobre Sales\n",
    "                                                    \n",
    "                                                    ## Dimensiones\n",
    "- 7 Columnas y 99457 Filas.\n",
    "\n",
    "                                                  ## Encabezados\n",
    "\n",
    "- invoice_no (object),customer_id (object), category (object), quantity (int64), price (float64), invoice_date (object) y shopping_mall (object).\n",
    "\n",
    "- Ninguno contiene valores nulos"
   ]
  },
  {
   "cell_type": "markdown",
   "id": "3321dbc0-946a-4000-9a2c-60b25fd151e7",
   "metadata": {
    "id": "3321dbc0-946a-4000-9a2c-60b25fd151e7"
   },
   "source": [
    "                                                 #Modificaciones al DF Sales\n",
    "_Previo a realizar cambios creamos un nuevo DF que nos permita conservar inmutables los originales. Luego procedemos a realizar lo siguiente_\n",
    "\n",
    "- Cambiar el tipo de datos de object a string (en columnas que corresponda).\n",
    "- Cambiar a formato DATETIME los valores de la columna invoice_date.\n",
    "- Reordenar el DF en base a la columna costumer_id.\n",
    "- Poner los nombres de las columnas en mayusculas.\n",
    "- Chequear si existen valores duplicados para customer_id e invoice_no."
   ]
  },
  {
   "cell_type": "markdown",
   "id": "6e4524c5-4188-46aa-ad1a-4e1f7aae4487",
   "metadata": {
    "id": "6e4524c5-4188-46aa-ad1a-4e1f7aae4487"
   },
   "source": [
    "                                       ### Cambiar tipos de datos a str y datetime"
   ]
  },
  {
   "cell_type": "code",
   "execution_count": 47,
   "id": "9f540fc8-c723-41d7-b9e8-40faf94aecc9",
   "metadata": {
    "colab": {
     "base_uri": "https://localhost:8080/"
    },
    "executionInfo": {
     "elapsed": 1053,
     "status": "ok",
     "timestamp": 1760051962660,
     "user": {
      "displayName": "Manuel Ontiveros",
      "userId": "15288118601497862144"
     },
     "user_tz": 180
    },
    "id": "9f540fc8-c723-41d7-b9e8-40faf94aecc9",
    "outputId": "c63882f9-6eba-48cb-f5b3-aab5f3414065"
   },
   "outputs": [
    {
     "name": "stdout",
     "output_type": "stream",
     "text": [
      "invoice_no        object\n",
      "customer_id       object\n",
      "category          object\n",
      "quantity           int64\n",
      "price            float64\n",
      "invoice_date      object\n",
      "shopping_mall     object\n",
      "dtype: object\n",
      "  invoice_no customer_id  category  quantity    price invoice_date  \\\n",
      "0    I138884     C241288  Clothing         5  1500.40   05-08-2022   \n",
      "1    I317333     C111565     Shoes         3  1800.51   12-12-2021   \n",
      "2    I127801     C266599  Clothing         1   300.08   09-11-2021   \n",
      "3    I173702     C988172     Shoes         5  3000.85   16-05-2021   \n",
      "4    I337046     C189076     Books         4    60.60   24-10-2021   \n",
      "\n",
      "    shopping_mall  \n",
      "0          Kanyon  \n",
      "1  Forum Istanbul  \n",
      "2       Metrocity  \n",
      "3    Metropol AVM  \n",
      "4          Kanyon  \n",
      "  invoice_no customer_id  category  quantity    price invoice_date  \\\n",
      "0    I138884     C241288  Clothing         5  1500.40   05-08-2022   \n",
      "1    I317333     C111565     Shoes         3  1800.51   12-12-2021   \n",
      "2    I127801     C266599  Clothing         1   300.08   09-11-2021   \n",
      "3    I173702     C988172     Shoes         5  3000.85   16-05-2021   \n",
      "4    I337046     C189076     Books         4    60.60   24-10-2021   \n",
      "\n",
      "    shopping_mall  \n",
      "0          Kanyon  \n",
      "1  Forum Istanbul  \n",
      "2       Metrocity  \n",
      "3    Metropol AVM  \n",
      "4          Kanyon  \n",
      "<class 'str'>\n",
      "<class 'str'>\n",
      "<class 'str'>\n",
      "<class 'str'>\n",
      "<class 'str'>\n"
     ]
    }
   ],
   "source": [
    "df_ventas = df_sales\n",
    "\n",
    "df_ventas = df_ventas.astype({'invoice_no':'str','customer_id':'str','category':'str', 'shopping_mall':'str'})\n",
    "print(df_ventas.dtypes)\n",
    "\n",
    "#Cambiamos invoice_date a DATETIME\n",
    "\n",
    "df_ventas['invoice_date'] = pd.to_datetime(df_ventas['invoice_date'], dayfirst=True)\n",
    "df_ventas['invoice_date'] = df_ventas['invoice_date'].dt.strftime('%d-%m-%Y')\n",
    "print(df_ventas.head())\n",
    "\n",
    "# Verifica el nuevo formato de las fechas\n",
    "print(df_ventas.head())\n",
    "print(type(df_ventas['invoice_no'].iloc[0]))\n",
    "print(type(df_ventas['customer_id'].iloc[1]))\n",
    "print(type(df_ventas['category'].iloc[2]))\n",
    "print(type(df_ventas['shopping_mall'].iloc[6]))\n",
    "print(type(df_ventas['invoice_date'].iloc[5]))"
   ]
  },
  {
   "cell_type": "markdown",
   "id": "75d97eaa-d408-4d38-ba4f-3f4b6c5210f9",
   "metadata": {
    "id": "75d97eaa-d408-4d38-ba4f-3f4b6c5210f9"
   },
   "source": [
    "                                        ### Reordenar el DF en base a la columna costumer_id"
   ]
  },
  {
   "cell_type": "code",
   "execution_count": 48,
   "id": "3746e057-56af-4d84-86cf-fb26d97590eb",
   "metadata": {
    "colab": {
     "base_uri": "https://localhost:8080/"
    },
    "executionInfo": {
     "elapsed": 144,
     "status": "ok",
     "timestamp": 1760051966304,
     "user": {
      "displayName": "Manuel Ontiveros",
      "userId": "15288118601497862144"
     },
     "user_tz": 180
    },
    "id": "3746e057-56af-4d84-86cf-fb26d97590eb",
    "outputId": "9b90a691-3ddd-4c54-b8ed-7b49606ebbb5"
   },
   "outputs": [
    {
     "name": "stdout",
     "output_type": "stream",
     "text": [
      "      invoice_no customer_id         category  quantity    price invoice_date  \\\n",
      "42195    I178410     C100004         Clothing         5  1500.40   26-11-2021   \n",
      "80560    I158163     C100005            Shoes         2  1200.34   03-03-2023   \n",
      "13070    I262373     C100006             Toys         3   107.52   01-12-2022   \n",
      "53587    I334895     C100012  Food & Beverage         5    26.15   15-08-2021   \n",
      "4073     I202043     C100019             Toys         1    35.84   25-07-2021   \n",
      "\n",
      "      shopping_mall  \n",
      "42195     Metrocity  \n",
      "80560        Kanyon  \n",
      "13070   Cevahir AVM  \n",
      "53587        Kanyon  \n",
      "4073      Metrocity  \n"
     ]
    }
   ],
   "source": [
    "df_ventas = df_ventas.sort_values(by='customer_id')\n",
    "print(df_ventas.head())"
   ]
  },
  {
   "cell_type": "markdown",
   "id": "8a2f09d3-b9b2-46ae-9928-bf7a1a934697",
   "metadata": {
    "id": "8a2f09d3-b9b2-46ae-9928-bf7a1a934697"
   },
   "source": [
    "                                        ### Poner los nombres de las columnas en mayusculas"
   ]
  },
  {
   "cell_type": "code",
   "execution_count": 49,
   "id": "5a35cbf2-b4b8-4c20-bee7-b0436ff8c507",
   "metadata": {
    "colab": {
     "base_uri": "https://localhost:8080/"
    },
    "executionInfo": {
     "elapsed": 41,
     "status": "ok",
     "timestamp": 1760051968341,
     "user": {
      "displayName": "Manuel Ontiveros",
      "userId": "15288118601497862144"
     },
     "user_tz": 180
    },
    "id": "5a35cbf2-b4b8-4c20-bee7-b0436ff8c507",
    "outputId": "d6d6c61c-49f7-4e70-bae9-22d877f63865"
   },
   "outputs": [
    {
     "name": "stdout",
     "output_type": "stream",
     "text": [
      "      INVOICE_NO CUSTOMER_ID         CATEGORY  QUANTITY    PRICE INVOICE_DATE  \\\n",
      "42195    I178410     C100004         Clothing         5  1500.40   26-11-2021   \n",
      "80560    I158163     C100005            Shoes         2  1200.34   03-03-2023   \n",
      "13070    I262373     C100006             Toys         3   107.52   01-12-2022   \n",
      "53587    I334895     C100012  Food & Beverage         5    26.15   15-08-2021   \n",
      "4073     I202043     C100019             Toys         1    35.84   25-07-2021   \n",
      "\n",
      "      SHOPPING_MALL  \n",
      "42195     Metrocity  \n",
      "80560        Kanyon  \n",
      "13070   Cevahir AVM  \n",
      "53587        Kanyon  \n",
      "4073      Metrocity  \n"
     ]
    }
   ],
   "source": [
    "df_ventas.columns = df_ventas.columns.str.upper()\n",
    "print(df_ventas.head())"
   ]
  },
  {
   "cell_type": "markdown",
   "id": "4e452b50-3278-4249-a04e-8461c9b780da",
   "metadata": {
    "id": "4e452b50-3278-4249-a04e-8461c9b780da"
   },
   "source": [
    "                                    ### Chequear si existen valores duplicados para customer_id e invoice_no"
   ]
  },
  {
   "cell_type": "code",
   "execution_count": 50,
   "id": "0ed3d623-f29a-4329-8333-cf20fb9ff59a",
   "metadata": {
    "colab": {
     "base_uri": "https://localhost:8080/"
    },
    "executionInfo": {
     "elapsed": 40,
     "status": "ok",
     "timestamp": 1760051970422,
     "user": {
      "displayName": "Manuel Ontiveros",
      "userId": "15288118601497862144"
     },
     "user_tz": 180
    },
    "id": "0ed3d623-f29a-4329-8333-cf20fb9ff59a",
    "outputId": "07dd8387-93fc-4fbe-97e7-495e29727b23"
   },
   "outputs": [
    {
     "name": "stdout",
     "output_type": "stream",
     "text": [
      "Número total de filas con un 'customer_id' duplicado: 0\n",
      "Número total de filas con un 'invoice_no' duplicado: 0\n"
     ]
    }
   ],
   "source": [
    "duplicados = df_ventas['CUSTOMER_ID'].duplicated(keep=False)\n",
    "\n",
    "total_duplicados = duplicados.sum()\n",
    "\n",
    "print(f\"Número total de filas con un 'customer_id' duplicado: {total_duplicados}\")\n",
    "\n",
    "duplicados_in = df_ventas['INVOICE_NO'].duplicated(keep=False)\n",
    "\n",
    "total_duplicados_in = duplicados_in.sum()\n",
    "\n",
    "print(f\"Número total de filas con un 'invoice_no' duplicado: {total_duplicados_in}\")"
   ]
  },
  {
   "cell_type": "code",
   "execution_count": 51,
   "id": "7YI6tJUgOvvN",
   "metadata": {
    "colab": {
     "base_uri": "https://localhost:8080/"
    },
    "executionInfo": {
     "elapsed": 18,
     "status": "ok",
     "timestamp": 1760051972444,
     "user": {
      "displayName": "Manuel Ontiveros",
      "userId": "15288118601497862144"
     },
     "user_tz": 180
    },
    "id": "7YI6tJUgOvvN",
    "outputId": "0656515a-ec9d-48dd-c3d3-30230afccef0"
   },
   "outputs": [
    {
     "name": "stdout",
     "output_type": "stream",
     "text": [
      "N° de customer_id duplicados: 0\n",
      "N° de invoice_no duplicados: 0\n"
     ]
    }
   ],
   "source": [
    "duplicados_cust = df_ventas['CUSTOMER_ID'].duplicated().sum()\n",
    "duplicados_inv = df_ventas['INVOICE_NO'].duplicated().sum()\n",
    "print(f\"N° de customer_id duplicados: {duplicados_cust}\")\n",
    "print(f\"N° de invoice_no duplicados: {duplicados_inv}\")\n"
   ]
  },
  {
   "cell_type": "markdown",
   "id": "c985d465-d58c-483f-8737-2052011c5cf7",
   "metadata": {
    "id": "c985d465-d58c-483f-8737-2052011c5cf7"
   },
   "source": [
    "                                                 # Unir ambos DF mediante la columna CUSTOMER_ID"
   ]
  },
  {
   "cell_type": "code",
   "execution_count": 52,
   "id": "37dbb3bd-ddc8-4fec-a0ae-4d04dcb2ce9b",
   "metadata": {
    "colab": {
     "base_uri": "https://localhost:8080/"
    },
    "executionInfo": {
     "elapsed": 96,
     "status": "ok",
     "timestamp": 1760051974323,
     "user": {
      "displayName": "Manuel Ontiveros",
      "userId": "15288118601497862144"
     },
     "user_tz": 180
    },
    "id": "37dbb3bd-ddc8-4fec-a0ae-4d04dcb2ce9b",
    "outputId": "b7f17958-cda0-4b52-f769-718727eecd97"
   },
   "outputs": [
    {
     "name": "stdout",
     "output_type": "stream",
     "text": [
      "      CUSTOMER_ID  GENDER   AGE PAYMENT_METHOD INVOICE_NO         CATEGORY  \\\n",
      "0         C100004    Male  61.0    Credit Card    I178410         Clothing   \n",
      "1         C100005    Male  34.0           Cash    I158163            Shoes   \n",
      "2         C100006    Male  44.0    Credit Card    I262373             Toys   \n",
      "3         C100012    Male  25.0           Cash    I334895  Food & Beverage   \n",
      "4         C100019  Female  21.0    Credit Card    I202043             Toys   \n",
      "...           ...     ...   ...            ...        ...              ...   \n",
      "99452     C999886    Male  61.0     Debit Card    I325647  Food & Beverage   \n",
      "99453     C999910    Male  41.0     Debit Card    I256358            Books   \n",
      "99454     C999974  Female  29.0           Cash    I143068         Clothing   \n",
      "99455     C999976  Female  49.0     Debit Card    I219600             Toys   \n",
      "99456     C999995  Female  57.0           Cash    I200805         Clothing   \n",
      "\n",
      "       QUANTITY    PRICE INVOICE_DATE     SHOPPING_MALL  \n",
      "0             5  1500.40   26-11-2021         Metrocity  \n",
      "1             2  1200.34   03-03-2023            Kanyon  \n",
      "2             3   107.52   01-12-2022       Cevahir AVM  \n",
      "3             5    26.15   15-08-2021            Kanyon  \n",
      "4             1    35.84   25-07-2021         Metrocity  \n",
      "...         ...      ...          ...               ...  \n",
      "99452         3    15.69   08-03-2023            Kanyon  \n",
      "99453         3    45.45   05-11-2022  Mall of Istanbul  \n",
      "99454         5  1500.40   10-05-2022    Forum Istanbul  \n",
      "99455         3   107.52   20-06-2022         Metrocity  \n",
      "99456         2   600.16   30-07-2021            Kanyon  \n",
      "\n",
      "[99457 rows x 10 columns]\n"
     ]
    }
   ],
   "source": [
    "df_compradores_ventas = pd.merge(df_compradores, df_ventas, on='CUSTOMER_ID', how='inner')\n",
    "print(df_compradores_ventas)"
   ]
  },
  {
   "cell_type": "markdown",
   "id": "dfc602cc-232b-4cdc-83e5-74429f53448f",
   "metadata": {
    "id": "dfc602cc-232b-4cdc-83e5-74429f53448f"
   },
   "source": [
    "                                               # Reagrupación de variables de los DF\n",
    "_Basados en el analisis exploratorio hemos visto la necesidad de reagrupar variables para poder realzar un analisis de los datos contenidos, que resulte mas eficaz.\n",
    "Para ello hemos identificado que las variables AGE  y PRICE deben ser convertidas a intervalos._\n",
    "\n"
   ]
  },
  {
   "cell_type": "markdown",
   "id": "920b24a2-1602-48bf-bb3c-dd73d22ceb87",
   "metadata": {
    "id": "920b24a2-1602-48bf-bb3c-dd73d22ceb87"
   },
   "source": [
    "                                                ## Conversión de la variable AGE\n",
    "\n",
    "- Identificar valores minimos y maximos de la variable.\n",
    "- Crear intervalos que agrupen los valores correspondientes a la edad."
   ]
  },
  {
   "cell_type": "code",
   "execution_count": 53,
   "id": "6a7ece83-1285-44ab-9d62-06481e537676",
   "metadata": {
    "colab": {
     "base_uri": "https://localhost:8080/",
     "height": 335
    },
    "executionInfo": {
     "elapsed": 19,
     "status": "ok",
     "timestamp": 1760051977213,
     "user": {
      "displayName": "Manuel Ontiveros",
      "userId": "15288118601497862144"
     },
     "user_tz": 180
    },
    "id": "6a7ece83-1285-44ab-9d62-06481e537676",
    "outputId": "e1513fcf-0de1-42af-af12-1aba749d61ae"
   },
   "outputs": [
    {
     "data": {
      "text/plain": [
       "count    99338.000000\n",
       "mean        43.425859\n",
       "std         14.989400\n",
       "min         18.000000\n",
       "25%         30.000000\n",
       "50%         43.000000\n",
       "75%         56.000000\n",
       "max         69.000000\n",
       "Name: AGE, dtype: float64"
      ]
     },
     "execution_count": 53,
     "metadata": {},
     "output_type": "execute_result"
    }
   ],
   "source": [
    "df_compradores_ventas['AGE'].describe()"
   ]
  },
  {
   "cell_type": "markdown",
   "id": "daff0de9-d8c0-498b-a802-a9b215837356",
   "metadata": {
    "id": "daff0de9-d8c0-498b-a802-a9b215837356"
   },
   "source": [
    "_Ahora que ya sabemos que la edad minima es 18 años y que la edad maxima es 69 años, podemos calcular el\n",
    "Rango Total (valor maximo menos valor minimo) para poder ver de cuanto deberan ser los intervalos._\n"
   ]
  },
  {
   "cell_type": "code",
   "execution_count": 54,
   "id": "e2963f4b-8396-491b-a728-14b8066210d3",
   "metadata": {
    "colab": {
     "base_uri": "https://localhost:8080/"
    },
    "executionInfo": {
     "elapsed": 14,
     "status": "ok",
     "timestamp": 1760051979718,
     "user": {
      "displayName": "Manuel Ontiveros",
      "userId": "15288118601497862144"
     },
     "user_tz": 180
    },
    "id": "e2963f4b-8396-491b-a728-14b8066210d3",
    "outputId": "d4ec582e-be5b-4cf5-d847-a366448cc4da"
   },
   "outputs": [
    {
     "name": "stdout",
     "output_type": "stream",
     "text": [
      "El rango total de la variable AGE es 51.0.\n",
      "Los intervalos deben ser de 10.2 años.\n"
     ]
    }
   ],
   "source": [
    "valor_maximo_age = df_compradores_ventas['AGE'].max()\n",
    "valor_minimo_age = df_compradores_ventas['AGE'].min()\n",
    "rango_total_age = valor_maximo_age - valor_minimo_age\n",
    "intervalos_age = rango_total_age / 5\n",
    "print(f'El rango total de la variable AGE es {rango_total_age}.')\n",
    "print(f'Los intervalos deben ser de {intervalos_age} años.')"
   ]
  },
  {
   "cell_type": "code",
   "execution_count": 55,
   "id": "2d89765c-a3d0-4650-b6e3-34da3686be81",
   "metadata": {
    "colab": {
     "base_uri": "https://localhost:8080/"
    },
    "executionInfo": {
     "elapsed": 37,
     "status": "ok",
     "timestamp": 1760051981491,
     "user": {
      "displayName": "Manuel Ontiveros",
      "userId": "15288118601497862144"
     },
     "user_tz": 180
    },
    "id": "2d89765c-a3d0-4650-b6e3-34da3686be81",
    "outputId": "5f59c384-6966-49da-deee-520aa6b9a98a"
   },
   "outputs": [
    {
     "name": "stdout",
     "output_type": "stream",
     "text": [
      "#--- DF con la nueva columna de rango ---#\n",
      "    AGE INTERVALOS_AGE\n",
      "0  61.0   58 - 70 Años\n",
      "1  34.0   28 - 37 Años\n",
      "2  44.0   38 - 47 Años\n",
      "3  25.0   18 - 27 Años\n",
      "4  21.0   18 - 27 Años\n"
     ]
    }
   ],
   "source": [
    "bins = [18, 28, 38, 48, 58, 70]\n",
    "labels = ['18 - 27 Años', '28 - 37 Años', '38 - 47 Años', '48 - 57 Años', '58 - 70 Años']\n",
    "\n",
    "df_compradores_ventas['INTERVALOS_AGE'] = pd.cut(\n",
    "    df_compradores_ventas['AGE'], bins = bins,\n",
    "    labels = labels, include_lowest = True,\n",
    "    right = True\n",
    ")\n",
    "\n",
    "print(\"#--- DF con la nueva columna de rango ---#\")\n",
    "print(df_compradores_ventas[['AGE', 'INTERVALOS_AGE']].head())\n"
   ]
  },
  {
   "cell_type": "markdown",
   "id": "0a9e9719-4d4e-4615-8720-bca3f80f2b27",
   "metadata": {
    "id": "0a9e9719-4d4e-4615-8720-bca3f80f2b27"
   },
   "source": [
    "                                                  ## Conversión de la variable PRICE\n",
    "- Identificar valores minimos y maximos de la variable.\n",
    "- Crear intervalos que agrupen los valores correspondientes a la edad."
   ]
  },
  {
   "cell_type": "code",
   "execution_count": 56,
   "id": "5979aac0-db9b-47f7-b256-2a5d008e371c",
   "metadata": {
    "colab": {
     "base_uri": "https://localhost:8080/",
     "height": 335
    },
    "executionInfo": {
     "elapsed": 25,
     "status": "ok",
     "timestamp": 1760051984727,
     "user": {
      "displayName": "Manuel Ontiveros",
      "userId": "15288118601497862144"
     },
     "user_tz": 180
    },
    "id": "5979aac0-db9b-47f7-b256-2a5d008e371c",
    "outputId": "8688dc34-c7b9-410c-f4ba-76cbcbb2dcbc"
   },
   "outputs": [
    {
     "data": {
      "text/plain": [
       "count    99457.000000\n",
       "mean       689.256321\n",
       "std        941.184567\n",
       "min          5.230000\n",
       "25%         45.450000\n",
       "50%        203.300000\n",
       "75%       1200.320000\n",
       "max       5250.000000\n",
       "Name: PRICE, dtype: float64"
      ]
     },
     "execution_count": 56,
     "metadata": {},
     "output_type": "execute_result"
    }
   ],
   "source": [
    "df_compradores_ventas['PRICE'].describe()"
   ]
  },
  {
   "cell_type": "markdown",
   "id": "0cf35fa8-ecbb-4543-8a16-74bacd1d5896",
   "metadata": {
    "id": "0cf35fa8-ecbb-4543-8a16-74bacd1d5896"
   },
   "source": [
    "_Ahora ya conocemos los valores minimo (5.23) y maximo (5250.00) podemos utilizar los cuartiles para ayudarnos a definir\n",
    "los puntos de corte de nuestros intervalos._\n",
    "_No Usamos la misma metodologia con la que creamos el intervalo de edad por la naturaleza y la distribucion que los datos de\n",
    "PRICE presentan. Para crear el intervalo hicimos lo siguiente_"
   ]
  },
  {
   "cell_type": "code",
   "execution_count": 57,
   "id": "b248f44b-5c8b-4ad4-b8cb-6c0feb50d874",
   "metadata": {
    "colab": {
     "base_uri": "https://localhost:8080/"
    },
    "executionInfo": {
     "elapsed": 11,
     "status": "ok",
     "timestamp": 1760052005362,
     "user": {
      "displayName": "Manuel Ontiveros",
      "userId": "15288118601497862144"
     },
     "user_tz": 180
    },
    "id": "b248f44b-5c8b-4ad4-b8cb-6c0feb50d874",
    "outputId": "05462f77-40b0-403f-dfff-91b2d52f568e"
   },
   "outputs": [
    {
     "name": "stdout",
     "output_type": "stream",
     "text": [
      "#--- DF con la nueva columna de rango ---#\n",
      "     PRICE INTERVALOS_PRICE\n",
      "0  1500.40  Premium (>1200)\n",
      "1  1200.34  Premium (>1200)\n",
      "2   107.52   Medio (45-203)\n",
      "3    26.15      Bajo (5-45)\n",
      "4    35.84      Bajo (5-45)\n"
     ]
    }
   ],
   "source": [
    "bins = [ df_compradores_ventas['PRICE'].min() - 0.01,\n",
    "    45.45,\n",
    "    203.30,\n",
    "    1200.32,\n",
    "    df_compradores_ventas['PRICE'].max() + 0.01\n",
    "]\n",
    "\n",
    "labels = ['Bajo (5-45)', 'Medio (45-203)', 'Alto (203-1200)', 'Premium (>1200)']\n",
    "\n",
    "df_compradores_ventas['INTERVALOS_PRICE'] = pd.cut(\n",
    "    df_compradores_ventas['PRICE'], bins = bins,\n",
    "    labels = labels, include_lowest = True,\n",
    "    right = True\n",
    ")\n",
    "\n",
    "print(\"#--- DF con la nueva columna de rango ---#\")\n",
    "print(df_compradores_ventas[['PRICE', 'INTERVALOS_PRICE']].head())\n"
   ]
  },
  {
   "cell_type": "markdown",
   "id": "7b7c1357-4010-49ac-9acc-1e9ab4f794d3",
   "metadata": {
    "id": "7b7c1357-4010-49ac-9acc-1e9ab4f794d3"
   },
   "source": [
    "                                               # Analisis de frecuencia de variables\n",
    "\n",
    "_Realizaremos un analisis de frecuencias de las variables de intervalos creadas anteriormente (INTERVALOS_AGE,INTERVALOS_PRICE) junto con las variables genero (GENDER), metodo de pago (PAYMENT_METHOD), categoria a la que corresponde la compra (CATEGORY) y centro comercial donde se adquirieron (SHOPPING_MALL).\n",
    "Con estos resultados nos sera mas sencillo realizar los analisis mediante graficos varios._"
   ]
  },
  {
   "cell_type": "code",
   "execution_count": 58,
   "id": "fb88a92a-930c-4bd0-8dbc-3ee17242b15f",
   "metadata": {
    "id": "fb88a92a-930c-4bd0-8dbc-3ee17242b15f"
   },
   "outputs": [
    {
     "name": "stdout",
     "output_type": "stream",
     "text": [
      "--- ANÁLISIS DE FRECUENCIAS DE VARIABLES  ---\n",
      "--------------------------------------------------\n",
      " Frecuencia para: GENDER\n",
      "--------------------------\n",
      "        COUNT  PERCENTAGE (%)\n",
      "GENDER                       \n",
      "Female  59482           59.81\n",
      "Male    39975           40.19\n",
      " Frecuencia para: INTERVALOS_AGE\n",
      "----------------------------------\n",
      "                COUNT  PERCENTAGE (%)\n",
      "INTERVALOS_AGE                       \n",
      "18 - 27 Años    21136           21.28\n",
      "58 - 70 Años    20887           21.03\n",
      "28 - 37 Años    19202           19.33\n",
      "38 - 47 Años    19193           19.32\n",
      "48 - 57 Años    18920           19.05\n",
      " Frecuencia para: INTERVALOS_PRICE\n",
      "------------------------------------\n",
      "                  COUNT  PERCENTAGE (%)\n",
      "INTERVALOS_PRICE                       \n",
      "Alto (203-1200)   30476           30.64\n",
      "Bajo (5-45)       25840           25.98\n",
      "Medio (45-203)    24100           24.23\n",
      "Premium (>1200)   19041           19.14\n",
      " Frecuencia para: PAYMENT_METHOD\n",
      "----------------------------------\n",
      "                COUNT  PERCENTAGE (%)\n",
      "PAYMENT_METHOD                       \n",
      "Cash            44447           44.69\n",
      "Credit Card     34931           35.12\n",
      "Debit Card      20079           20.19\n",
      " Frecuencia para: CATEGORY\n",
      "----------------------------\n",
      "                 COUNT  PERCENTAGE (%)\n",
      "CATEGORY                              \n",
      "Clothing         34487           34.68\n",
      "Cosmetics        15097           15.18\n",
      "Food & Beverage  14776           14.86\n",
      "Toys             10087           10.14\n",
      "Shoes            10034           10.09\n",
      "Souvenir          4999            5.03\n",
      "Technology        4996            5.02\n",
      "Books             4981            5.01\n",
      " Frecuencia para: SHOPPING_MALL\n",
      "---------------------------------\n",
      "                   COUNT  PERCENTAGE (%)\n",
      "SHOPPING_MALL                           \n",
      "Mall of Istanbul   19943           20.05\n",
      "Kanyon             19823           19.93\n",
      "Metrocity          15011           15.09\n",
      "Metropol AVM       10161           10.22\n",
      "Istinye Park        9781            9.83\n",
      "Zorlu Center        5075            5.10\n",
      "Cevahir AVM         4991            5.02\n",
      "Forum Istanbul      4947            4.97\n",
      "Viaport Outlet      4914            4.94\n",
      "Emaar Square Mall   4811            4.84\n"
     ]
    }
   ],
   "source": [
    "conteo_frecuencias = [ 'GENDER','INTERVALOS_AGE', 'INTERVALOS_PRICE', 'PAYMENT_METHOD', 'CATEGORY', 'SHOPPING_MALL']\n",
    "\n",
    "print('--- ANÁLISIS DE FRECUENCIAS DE VARIABLES  ---')\n",
    "print('-' * 50)\n",
    "\n",
    "for variables in conteo_frecuencias:\n",
    "        conteo_frecuencia = df_compradores_ventas[variables].value_counts().rename('COUNT')\n",
    "        conteo_porcentaje = (df_compradores_ventas[variables].value_counts(normalize=True) * 100).rename('PERCENTAGE (%)').round(2)\n",
    "        resultado_frecuencias = pd.concat([conteo_frecuencia, conteo_porcentaje], axis=1)\n",
    "\n",
    "        print(f' Frecuencia para: {variables.upper()}')\n",
    "        print('-' * (20 + len(variables)))\n",
    "        print(resultado_frecuencias)"
   ]
  },
  {
   "cell_type": "markdown",
   "id": "607b75f4-a62d-40e0-ae0f-ee7be512e1d4",
   "metadata": {
    "id": "607b75f4-a62d-40e0-ae0f-ee7be512e1d4"
   },
   "source": [
    "                                                                  # PRE-ANALISIS\n",
    "\n",
    "_ Observando los conteos de frecuencia, a primera vista ya podemos empezar a extraer informacion significativa de nuestros datos,\n",
    "podemos afirmar que: _   \n",
    "- La clientela esta compuesta en un 60% por mujeres.  \n",
    "- la distribucion de la edad de los compradores es bastante simetrica (cada intervalo concentra entre el 19 y el 21 % de los consumidores).\n",
    "- Los tickets premium solo representan el 19% de las ventas mientras que los tickets medios y bajos concentran el 50%.\n",
    "- El uso de tarjetas (credito y debito) esta presente en el 55% de las compras que se efectuan.\n",
    "- indumentaria es la categoria mas fuerte con un 34% mientras que el 50% lo componen una canasta que incluye cosmetica, calzados, juguetes y\n",
    "  comida y bebidas.\n",
    "- Dos centros comerciales (Mall of Istanbul y Kanyon) estan practicamente empatados respecto al porcentaje de ventas y que sumados a los dos que\n",
    "  le siguen concentran el 61% de los consumos.\n",
    "  "
   ]
  },
  {
   "cell_type": "markdown",
   "id": "6d430afa-3351-4748-9b8e-3ef661f4c09c",
   "metadata": {
    "id": "6d430afa-3351-4748-9b8e-3ef661f4c09c"
   },
   "source": [
    "                                                               # CREACIÓN DE UN NUEVO DF"
   ]
  },
  {
   "cell_type": "markdown",
   "id": "72b0ce24-a0fc-4d44-b291-9f9f806735ed",
   "metadata": {
    "id": "72b0ce24-a0fc-4d44-b291-9f9f806735ed"
   },
   "source": [
    "_ Una vez realizado el pre-analisis procedemos a crear un nuevo DF en el cual conservaremos las columnas que, creemos, nos resultaran utiles\n",
    "para un analisis mas pormenorizado. _"
   ]
  },
  {
   "cell_type": "code",
   "execution_count": 59,
   "id": "5aa1cffe-0712-4332-a3be-922fa977bde5",
   "metadata": {
    "id": "5aa1cffe-0712-4332-a3be-922fa977bde5"
   },
   "outputs": [
    {
     "data": {
      "text/html": [
       "<div>\n",
       "<style scoped>\n",
       "    .dataframe tbody tr th:only-of-type {\n",
       "        vertical-align: middle;\n",
       "    }\n",
       "\n",
       "    .dataframe tbody tr th {\n",
       "        vertical-align: top;\n",
       "    }\n",
       "\n",
       "    .dataframe thead th {\n",
       "        text-align: right;\n",
       "    }\n",
       "</style>\n",
       "<table border=\"1\" class=\"dataframe\">\n",
       "  <thead>\n",
       "    <tr style=\"text-align: right;\">\n",
       "      <th></th>\n",
       "      <th>CUSTOMER_ID</th>\n",
       "      <th>GENDER</th>\n",
       "      <th>AGE</th>\n",
       "      <th>PAYMENT_METHOD</th>\n",
       "      <th>INVOICE_NO</th>\n",
       "      <th>CATEGORY</th>\n",
       "      <th>QUANTITY</th>\n",
       "      <th>PRICE</th>\n",
       "      <th>INVOICE_DATE</th>\n",
       "      <th>SHOPPING_MALL</th>\n",
       "      <th>INTERVALOS_AGE</th>\n",
       "      <th>INTERVALOS_PRICE</th>\n",
       "    </tr>\n",
       "  </thead>\n",
       "  <tbody>\n",
       "    <tr>\n",
       "      <th>0</th>\n",
       "      <td>C100004</td>\n",
       "      <td>Male</td>\n",
       "      <td>61.0</td>\n",
       "      <td>Credit Card</td>\n",
       "      <td>I178410</td>\n",
       "      <td>Clothing</td>\n",
       "      <td>5</td>\n",
       "      <td>1500.40</td>\n",
       "      <td>26-11-2021</td>\n",
       "      <td>Metrocity</td>\n",
       "      <td>58 - 70 Años</td>\n",
       "      <td>Premium (&gt;1200)</td>\n",
       "    </tr>\n",
       "    <tr>\n",
       "      <th>1</th>\n",
       "      <td>C100005</td>\n",
       "      <td>Male</td>\n",
       "      <td>34.0</td>\n",
       "      <td>Cash</td>\n",
       "      <td>I158163</td>\n",
       "      <td>Shoes</td>\n",
       "      <td>2</td>\n",
       "      <td>1200.34</td>\n",
       "      <td>03-03-2023</td>\n",
       "      <td>Kanyon</td>\n",
       "      <td>28 - 37 Años</td>\n",
       "      <td>Premium (&gt;1200)</td>\n",
       "    </tr>\n",
       "    <tr>\n",
       "      <th>2</th>\n",
       "      <td>C100006</td>\n",
       "      <td>Male</td>\n",
       "      <td>44.0</td>\n",
       "      <td>Credit Card</td>\n",
       "      <td>I262373</td>\n",
       "      <td>Toys</td>\n",
       "      <td>3</td>\n",
       "      <td>107.52</td>\n",
       "      <td>01-12-2022</td>\n",
       "      <td>Cevahir AVM</td>\n",
       "      <td>38 - 47 Años</td>\n",
       "      <td>Medio (45-203)</td>\n",
       "    </tr>\n",
       "    <tr>\n",
       "      <th>3</th>\n",
       "      <td>C100012</td>\n",
       "      <td>Male</td>\n",
       "      <td>25.0</td>\n",
       "      <td>Cash</td>\n",
       "      <td>I334895</td>\n",
       "      <td>Food &amp; Beverage</td>\n",
       "      <td>5</td>\n",
       "      <td>26.15</td>\n",
       "      <td>15-08-2021</td>\n",
       "      <td>Kanyon</td>\n",
       "      <td>18 - 27 Años</td>\n",
       "      <td>Bajo (5-45)</td>\n",
       "    </tr>\n",
       "    <tr>\n",
       "      <th>4</th>\n",
       "      <td>C100019</td>\n",
       "      <td>Female</td>\n",
       "      <td>21.0</td>\n",
       "      <td>Credit Card</td>\n",
       "      <td>I202043</td>\n",
       "      <td>Toys</td>\n",
       "      <td>1</td>\n",
       "      <td>35.84</td>\n",
       "      <td>25-07-2021</td>\n",
       "      <td>Metrocity</td>\n",
       "      <td>18 - 27 Años</td>\n",
       "      <td>Bajo (5-45)</td>\n",
       "    </tr>\n",
       "  </tbody>\n",
       "</table>\n",
       "</div>"
      ],
      "text/plain": [
       "  CUSTOMER_ID  GENDER   AGE PAYMENT_METHOD INVOICE_NO         CATEGORY  \\\n",
       "0     C100004    Male  61.0    Credit Card    I178410         Clothing   \n",
       "1     C100005    Male  34.0           Cash    I158163            Shoes   \n",
       "2     C100006    Male  44.0    Credit Card    I262373             Toys   \n",
       "3     C100012    Male  25.0           Cash    I334895  Food & Beverage   \n",
       "4     C100019  Female  21.0    Credit Card    I202043             Toys   \n",
       "\n",
       "   QUANTITY    PRICE INVOICE_DATE SHOPPING_MALL INTERVALOS_AGE  \\\n",
       "0         5  1500.40   26-11-2021     Metrocity   58 - 70 Años   \n",
       "1         2  1200.34   03-03-2023        Kanyon   28 - 37 Años   \n",
       "2         3   107.52   01-12-2022   Cevahir AVM   38 - 47 Años   \n",
       "3         5    26.15   15-08-2021        Kanyon   18 - 27 Años   \n",
       "4         1    35.84   25-07-2021     Metrocity   18 - 27 Años   \n",
       "\n",
       "  INTERVALOS_PRICE  \n",
       "0  Premium (>1200)  \n",
       "1  Premium (>1200)  \n",
       "2   Medio (45-203)  \n",
       "3      Bajo (5-45)  \n",
       "4      Bajo (5-45)  "
      ]
     },
     "execution_count": 59,
     "metadata": {},
     "output_type": "execute_result"
    }
   ],
   "source": [
    "df_compradores_ventas.head()\n"
   ]
  },
  {
   "cell_type": "code",
   "execution_count": 60,
   "id": "eec103a8-49eb-446e-995d-24494887bd74",
   "metadata": {
    "colab": {
     "base_uri": "https://localhost:8080/"
    },
    "executionInfo": {
     "elapsed": 39,
     "status": "ok",
     "timestamp": 1760052063442,
     "user": {
      "displayName": "Manuel Ontiveros",
      "userId": "15288118601497862144"
     },
     "user_tz": 180
    },
    "id": "eec103a8-49eb-446e-995d-24494887bd74",
    "outputId": "e1194697-4272-4e0d-92fe-53d752d6bbfb"
   },
   "outputs": [
    {
     "name": "stdout",
     "output_type": "stream",
     "text": [
      "Index(['CUSTOMER_ID', 'GENDER', 'AGE', 'PAYMENT_METHOD', 'INVOICE_NO',\n",
      "       'CATEGORY', 'QUANTITY', 'PRICE', 'INVOICE_DATE', 'SHOPPING_MALL',\n",
      "       'INTERVALOS_AGE', 'INTERVALOS_PRICE'],\n",
      "      dtype='object')\n",
      "      CUSTOMER_ID  GENDER PAYMENT_METHOD         CATEGORY  QUANTITY  \\\n",
      "0         C100004    Male    Credit Card         Clothing         5   \n",
      "1         C100005    Male           Cash            Shoes         2   \n",
      "2         C100006    Male    Credit Card             Toys         3   \n",
      "3         C100012    Male           Cash  Food & Beverage         5   \n",
      "4         C100019  Female    Credit Card             Toys         1   \n",
      "...           ...     ...            ...              ...       ...   \n",
      "99452     C999886    Male     Debit Card  Food & Beverage         3   \n",
      "99453     C999910    Male     Debit Card            Books         3   \n",
      "99454     C999974  Female           Cash         Clothing         5   \n",
      "99455     C999976  Female     Debit Card             Toys         3   \n",
      "99456     C999995  Female           Cash         Clothing         2   \n",
      "\n",
      "      INVOICE_DATE     SHOPPING_MALL INTERVALOS_AGE INTERVALOS_PRICE  \n",
      "0       26-11-2021         Metrocity   58 - 70 Años  Premium (>1200)  \n",
      "1       03-03-2023            Kanyon   28 - 37 Años  Premium (>1200)  \n",
      "2       01-12-2022       Cevahir AVM   38 - 47 Años   Medio (45-203)  \n",
      "3       15-08-2021            Kanyon   18 - 27 Años      Bajo (5-45)  \n",
      "4       25-07-2021         Metrocity   18 - 27 Años      Bajo (5-45)  \n",
      "...            ...               ...            ...              ...  \n",
      "99452   08-03-2023            Kanyon   58 - 70 Años      Bajo (5-45)  \n",
      "99453   05-11-2022  Mall of Istanbul   38 - 47 Años      Bajo (5-45)  \n",
      "99454   10-05-2022    Forum Istanbul   28 - 37 Años  Premium (>1200)  \n",
      "99455   20-06-2022         Metrocity   48 - 57 Años   Medio (45-203)  \n",
      "99456   30-07-2021            Kanyon   48 - 57 Años  Alto (203-1200)  \n",
      "\n",
      "[99457 rows x 9 columns]\n"
     ]
    }
   ],
   "source": [
    "\n",
    "encabezados= df_compradores_ventas.columns\n",
    "print(encabezados)\n",
    "seleccion = ['CUSTOMER_ID', 'GENDER', 'PAYMENT_METHOD','CATEGORY', 'QUANTITY', 'INVOICE_DATE', 'SHOPPING_MALL',\n",
    "       'INTERVALOS_AGE', 'INTERVALOS_PRICE']\n",
    "df_analisis = df_compradores_ventas[seleccion].copy()\n",
    "print(df_analisis)"
   ]
  },
  {
   "cell_type": "markdown",
   "id": "24558a4a-fe85-40b8-a8f3-9c421e9bce38",
   "metadata": {
    "id": "4b93b63e-9d75-41a3-a258-a8f1de5e0d72"
   },
   "source": [
    "                                                # DataFrame  ANALISIS (df_analisis)\n",
    "- Cambiamos el nombre de las Variables  INTERVALOS_AGE e INTERVALOS_PRICE por AGE y PRICE y ademas sacamos de todos los\n",
    "encabezados los guines bajos."
   ]
  },
  {
   "cell_type": "code",
   "execution_count": 61,
   "id": "d11ef51b-a22b-485b-b999-142e0431717e",
   "metadata": {
    "colab": {
     "base_uri": "https://localhost:8080/"
    },
    "executionInfo": {
     "elapsed": 14,
     "status": "ok",
     "timestamp": 1760052066289,
     "user": {
      "displayName": "Manuel Ontiveros",
      "userId": "15288118601497862144"
     },
     "user_tz": 180
    },
    "id": "d11ef51b-a22b-485b-b999-142e0431717e",
    "outputId": "59654da3-ac1a-42ea-ac06-c2c77711f049"
   },
   "outputs": [
    {
     "name": "stdout",
     "output_type": "stream",
     "text": [
      "Index(['CUSTOMER ID', 'GENDER', 'PAYMENT METHOD', 'CATEGORY', 'QUANTITY',\n",
      "       'INVOICE DATE', 'SHOPPING MALL', 'AGE', 'PRICE'],\n",
      "      dtype='object')\n"
     ]
    }
   ],
   "source": [
    "df_analisis.rename(columns={'INTERVALOS_AGE': 'AGE', 'INTERVALOS_PRICE': 'PRICE'}, inplace=True)\n",
    "df_analisis.columns = df_analisis.columns.str.replace('_', ' ')\n",
    "print(df_analisis.columns)\n"
   ]
  },
  {
   "cell_type": "markdown",
   "id": "6503111a-7605-4cdb-8977-0b660146d5d5",
   "metadata": {
    "id": "6503111a-7605-4cdb-8977-0b660146d5d5"
   },
   "source": [
    "                                                 ## ANALISIS DE VARIABLE GÉNERO\n",
    "\n",
    "_ Comenzaremos tomando la variable genero (GENDER). Como observamos en el pre-analisis la mayoria de los compradores eran mujeres,\n",
    "pero quedarnos ahi seria seria un error. Es por esto que vamos a realizar los siguientes entrecruzamientos:\n",
    "\n",
    "- Genero con edad (AGE) para conocer mas caracteristicas de nuestra muestra.\n",
    "- Genero con cantidad de productos (QUANTITY): Observemos si es que ademas de ser mas clientes, las mujeres son tambien las que mas compran,\n",
    "  o en realidad son los hombres.\n",
    "- Genero con precio (PRICE) para saber si hay algun sesgo de genero a la hora de gastar.\n",
    "- Genero con tipo de producto (CATEGORY) para conocer que es lo que consumen hombres y mujeres.\n",
    "- Genero con comercio (SHOPPING MALL) para saber si existe alguna tendencia respecto de donde compran unos y otros.\n",
    "- Genero con metodo de pago (PAYMENT METHOD).\n",
    "  "
   ]
  },
  {
   "cell_type": "code",
   "execution_count": 62,
   "id": "4bf5adf5-c5c9-4cee-825b-722a3bae03f4",
   "metadata": {
    "id": "4bf5adf5-c5c9-4cee-825b-722a3bae03f4"
   },
   "outputs": [
    {
     "name": "stdout",
     "output_type": "stream",
     "text": [
      "======================================================================\n",
      "                 ANÁLISIS INTRAGRUPO (GENDER) SOBRE df_analisis\n",
      "======================================================================\n",
      "\n",
      "--- CRUCE: GÉNERO vs. EDAD (DISTRIBUCIÓN INTRAGRUPO) ---\n",
      "----------------------------------------------------------------------\n",
      "AGE     18 - 27 Años  28 - 37 Años  38 - 47 Años  48 - 57 Años  58 - 70 Años\n",
      "GENDER                                                                      \n",
      "Female         21.20         19.29         19.37         19.13         21.01\n",
      "Male           21.39         19.39         19.25         18.92         21.05\n",
      "======================================================================\n",
      "\n",
      "--- CRUCE: GÉNERO vs. CANTIDAD (VOLUMEN TOTAL) ---\n",
      "----------------------------------------------------------------------\n",
      "        Total Artículos  Porcentaje (%)\n",
      "GENDER                                 \n",
      "Female           178659           59.81\n",
      "Male             120053           40.19\n",
      "======================================================================\n",
      "\n",
      "--- CRUCE: GÉNERO vs. CANTIDAD (FRECUENCIA ABSOLUTA) ---\n",
      "----------------------------------------------------------------------\n",
      "QUANTITY      1      2      3      4      5\n",
      "GENDER                                     \n",
      "Female    11824  11812  12046  11927  11873\n",
      "Male       7943   8016   8103   7796   8117\n",
      "======================================================================\n",
      "\n",
      "--- CRUCE: GÉNERO vs. CANTIDAD (DISTRIBUCIÓN INTRAGRUPO) ---\n",
      "----------------------------------------------------------------------\n",
      "QUANTITY      1      2      3      4      5\n",
      "GENDER                                     \n",
      "Female    19.88  19.86  20.25  20.05  19.96\n",
      "Male      19.87  20.05  20.27  19.50  20.31\n",
      "======================================================================\n",
      "\n",
      "--- CRUCE: GÉNERO vs. PRECIO (DISTRIBUCIÓN DE INTERVALOS) ---\n",
      "----------------------------------------------------------------------\n",
      "PRICE   Bajo (5-45)  Medio (45-203)  Alto (203-1200)  Premium (>1200)\n",
      "GENDER                                                               \n",
      "Female        25.93           24.31            30.77            19.00\n",
      "Male          26.06           24.12            30.46            19.36\n",
      "======================================================================\n",
      "\n",
      "--- CRUCE: GÉNERO vs. CATEGORÍA (CONSUMO INTRAGRUPO) ---\n",
      "----------------------------------------------------------------------\n",
      "CATEGORY  Books  Clothing  Cosmetics  Food & Beverage  Shoes  Souvenir  \\\n",
      "GENDER                                                                   \n",
      "Female     4.89     34.72      15.25            14.80  10.03      5.07   \n",
      "Male       5.19     34.61      15.08            14.94  10.17      4.96   \n",
      "\n",
      "CATEGORY  Technology   Toys  \n",
      "GENDER                       \n",
      "Female          5.01  10.23  \n",
      "Male            5.04  10.01  \n",
      "======================================================================\n",
      "\n",
      "--- CRUCE: GÉNERO vs. COMERCIO (LUGAR DE COMPRA) ---\n",
      "----------------------------------------------------------------------\n",
      "SHOPPING MALL  Cevahir AVM  Emaar Square Mall  Forum Istanbul  Istinye Park  \\\n",
      "GENDER                                                                        \n",
      "Female                4.94               4.78            5.07          9.88   \n",
      "Male                  5.13               4.93            4.83          9.77   \n",
      "\n",
      "SHOPPING MALL  Kanyon  Mall of Istanbul  Metrocity  Metropol AVM  \\\n",
      "GENDER                                                             \n",
      "Female          20.02             20.01      15.03         10.33   \n",
      "Male            19.80             20.12      15.18         10.05   \n",
      "\n",
      "SHOPPING MALL  Viaport Outlet  Zorlu Center  \n",
      "GENDER                                       \n",
      "Female                   4.96          4.99  \n",
      "Male                     4.92          5.27  \n",
      "======================================================================\n",
      "\n",
      "--- CRUCE: GÉNERO vs. MÉTODO DE PAGO (PREFERENCIAS) ---\n",
      "----------------------------------------------------------------------\n",
      "PAYMENT METHOD   Cash  Credit Card  Debit Card\n",
      "GENDER                                        \n",
      "Female          44.57        35.32       20.11\n",
      "Male            44.87        34.82       20.31\n",
      "======================================================================\n"
     ]
    }
   ],
   "source": [
    "print('======================================================================')\n",
    "print('                 ANÁLISIS INTRAGRUPO (GENDER) SOBRE df_analisis')\n",
    "print('======================================================================')\n",
    "\n",
    "frecuencia_edad_genero = (df_analisis.groupby('GENDER')['AGE'].value_counts(normalize=True).mul(100).unstack(fill_value=0).round(2) )\n",
    "print('\\n--- CRUCE: GÉNERO vs. EDAD (DISTRIBUCIÓN INTRAGRUPO) ---')\n",
    "print('-' * 70)\n",
    "print(frecuencia_edad_genero)\n",
    "\n",
    "print('=' * 70)\n",
    "\n",
    "total_quantity_genero = df_analisis.groupby('GENDER')['QUANTITY'].sum().rename('Total Artículos')\n",
    "total_general_quantity = total_quantity_genero.sum()\n",
    "porcentaje_quantity = (total_quantity_genero / total_general_quantity * 100).round(2).rename('Porcentaje (%)')\n",
    "tabla_quantity = pd.concat([total_quantity_genero, porcentaje_quantity], axis=1)\n",
    "print('\\n--- CRUCE: GÉNERO vs. CANTIDAD (VOLUMEN TOTAL) ---')\n",
    "print('-' * 70)\n",
    "print(tabla_quantity)\n",
    "\n",
    "print('=' * 70)\n",
    "\n",
    "\n",
    "conteo_quantity_genero = (df_analisis.groupby('GENDER')['QUANTITY'].value_counts().unstack(fill_value=0).sort_index(axis=1))\n",
    "print('\\n--- CRUCE: GÉNERO vs. CANTIDAD (FRECUENCIA ABSOLUTA) ---')\n",
    "print('-' * 70)\n",
    "print(conteo_quantity_genero)\n",
    "\n",
    "print('=' * 70)\n",
    "\n",
    "\n",
    "porcentaje_quantity_genero = (df_analisis.groupby('GENDER')['QUANTITY'].value_counts(normalize=True).mul(100).unstack(fill_value=0).round(2))\n",
    "print('\\n--- CRUCE: GÉNERO vs. CANTIDAD (DISTRIBUCIÓN INTRAGRUPO) ---')\n",
    "print('-' * 70)\n",
    "print(porcentaje_quantity_genero)\n",
    "\n",
    "print('=' * 70)\n",
    "\n",
    "frecuencia_price_genero = (df_analisis.groupby('GENDER')['PRICE'].value_counts(normalize=True).mul(100).unstack(fill_value=0).round(2))\n",
    "print('\\n--- CRUCE: GÉNERO vs. PRECIO (DISTRIBUCIÓN DE INTERVALOS) ---')\n",
    "print('-' * 70)\n",
    "print(frecuencia_price_genero)\n",
    "\n",
    "print('=' * 70)\n",
    "\n",
    "\n",
    "\n",
    "frecuencia_categoria_genero = (df_analisis.groupby('GENDER')['CATEGORY'].value_counts(normalize=True).mul(100).unstack(fill_value=0).round(2))\n",
    "print('\\n--- CRUCE: GÉNERO vs. CATEGORÍA (CONSUMO INTRAGRUPO) ---')\n",
    "print('-' * 70)\n",
    "print(frecuencia_categoria_genero)\n",
    "\n",
    "print('=' * 70)\n",
    "\n",
    "\n",
    "\n",
    "frecuencia_mall_genero = (df_analisis.groupby('GENDER')['SHOPPING MALL'].value_counts(normalize=True).mul(100).unstack(fill_value=0).round(2))\n",
    "print('\\n--- CRUCE: GÉNERO vs. COMERCIO (LUGAR DE COMPRA) ---')\n",
    "print('-' * 70)\n",
    "print(frecuencia_mall_genero)\n",
    "\n",
    "print('=' * 70)\n",
    "\n",
    "\n",
    "\n",
    "frecuencia_pago_genero = (df_analisis.groupby('GENDER')['PAYMENT METHOD'].value_counts(normalize=True).mul(100).unstack(fill_value=0).round(2))\n",
    "\n",
    "print('\\n--- CRUCE: GÉNERO vs. MÉTODO DE PAGO (PREFERENCIAS) ---')\n",
    "print('-' * 70)\n",
    "print(frecuencia_pago_genero)\n",
    "\n",
    "print('======================================================================')"
   ]
  },
  {
   "cell_type": "markdown",
   "id": "235352ab-fb4f-47a2-93e8-b176c16c18c0",
   "metadata": {},
   "source": [
    "_ Del entrecruzamiento de genero con las diferentes variables podemos extraer las siguientes conclusiones\n",
    "  En términos generales las distribuciones son bastante homogéneas, presentando variaciones que no suelen ser mayores a los 2 puntos\n",
    "  (debimos revisar los .csv varias veces ya que esto nos parecía poco probable)._\n",
    "\n",
    "- GÉNERO/EDAD: En ambos casos predominan los rangos 18-27 y 58-70 con 21% de los compradores en ambos.\n",
    "- GÉNERO /CANTIDAD: Asumimos que la diferencia que se percibe solo tiene que ver con que en la base de datos hay un mayor número de clientas\n",
    "  que de clientes (60 a 40), y lo reforzamos al solicitar la frecuencia absoluta de cantidades. Los hombres tienen una tendencia levemente \n",
    "  más marcada a realizar compras de 5 items.\n",
    "- GÉNERO /PRECIO: Los hombres tienen una tendencia levemente más marcada a terminar con tickets pertenecientes al segmento Premium que \n",
    "  las mujeres y lideran el segmento Bajo. Mientras que en el caso de los segmentos Medio y Alto son las mujeres las que lideran.\n",
    "- GÉNERO /CATEGORIA: Respecto a que compran hombres y mujeres, los datos nos dicen que ellas tienden a consumir más ropa, cosméticos,\n",
    "  souvenirs y juguetes, mientras que ellos destinan más dinero en la compra de calzado, comida y bebida, libros y tecnología.\n",
    "- GÉNERO /COMERCIO: Las mujeres tienden a preferir consumir en Kanyon seguido por el Mall Of Istambul, mientras que los hombres \n",
    "  invierten el orden de preferencias.\n",
    "- GÉNERO/MEDIO DE PAGO: Ambos prefieren el efectivo pero los hombres lideran la categoria, mientras que las mujeres, en el segmento tarjetas de     credito, son quienes lideran.  "
   ]
  },
  {
   "cell_type": "markdown",
   "id": "8d25fe42-213f-460b-a310-b6ae1354c95b",
   "metadata": {},
   "source": [
    "                               ### ANALISIS ENTRECRUZAMIENTO EDAD,GENERO Y METODOS DE PAGOS PREFERIDOS"
   ]
  },
  {
   "cell_type": "code",
   "execution_count": 63,
   "id": "46bef79e-b5e4-48f3-9492-5ef416d2cea9",
   "metadata": {
    "scrolled": true
   },
   "outputs": [
    {
     "name": "stdout",
     "output_type": "stream",
     "text": [
      "\n",
      "--- CRUCE: GÉNERO, EDAD vs. MÉTODO DE PAGO (DISTRIBUCIÓN INTRAGRUPO) ---\n",
      "------------------------------------------------------------------------------------------\n",
      "PAYMENT METHOD        Cash  Credit Card  Debit Card\n",
      "GENDER AGE                                         \n",
      "Female 18 - 27 Años  44.60        35.18       20.23\n",
      "       28 - 37 Años  44.22        35.47       20.32\n",
      "       38 - 47 Años  44.08        35.70       20.22\n",
      "       48 - 57 Años  44.53        35.33       20.14\n",
      "       58 - 70 Años  45.35        35.05       19.60\n",
      "Male   18 - 27 Años  45.12        34.64       20.24\n",
      "       28 - 37 Años  44.67        35.22       20.11\n",
      "       38 - 47 Años  45.24        34.60       20.17\n",
      "       48 - 57 Años  44.55        34.43       21.02\n",
      "       58 - 70 Años  44.79        35.21       20.00\n",
      "------------------------------------------------------------------------------------------\n"
     ]
    },
    {
     "name": "stderr",
     "output_type": "stream",
     "text": [
      "C:\\Users\\piafa\\AppData\\Local\\Temp\\ipykernel_11144\\641216295.py:3: FutureWarning: The default of observed=False is deprecated and will be changed to True in a future version of pandas. Pass observed=False to retain current behavior or observed=True to adopt the future default and silence this warning.\n",
      "  frecuencia_pago_genero_edad = (df_analisis.groupby(['GENDER', 'AGE'])['PAYMENT METHOD'].value_counts(normalize=True).mul(100).unstack(fill_value=0)\n"
     ]
    }
   ],
   "source": [
    "print('\\n--- CRUCE: GÉNERO, EDAD vs. MÉTODO DE PAGO (DISTRIBUCIÓN INTRAGRUPO) ---')\n",
    "print('-' * 90)\n",
    "frecuencia_pago_genero_edad = (df_analisis.groupby(['GENDER', 'AGE'])['PAYMENT METHOD'].value_counts(normalize=True).mul(100).unstack(fill_value=0)\n",
    "    .round(2))\n",
    "print(frecuencia_pago_genero_edad)\n",
    "print('-' * 90)"
   ]
  },
  {
   "cell_type": "markdown",
   "id": "4d8345ae-056d-4e69-8e8f-ca6540a7a2ea",
   "metadata": {},
   "source": [
    "_No sobresale ningun rabgo etario, tanto en hombres como en mujeres, que se desvien de la costumbre cultural de utilizar predominantemente el efectivo.\n",
    "Por otro lado si se observa que las muejeres teienden a utilizar efectivo mas asiduamente en las franjas de 18 a 27 y de 58 a 70, mientras que en los hombres la franja 58 a 70 es reemplazada por 38 a 47._"
   ]
  },
  {
   "cell_type": "markdown",
   "id": "db6b59cb-0c56-4d62-b668-35dad8c15165",
   "metadata": {},
   "source": [
    "                                            ### ANALISIS ENTRECRUZAMIENTO CATEGORIA CON PRECIOS"
   ]
  },
  {
   "cell_type": "code",
   "execution_count": 64,
   "id": "66f76314-73a2-4431-996c-2bc7531bee7f",
   "metadata": {},
   "outputs": [
    {
     "name": "stdout",
     "output_type": "stream",
     "text": [
      "\n",
      "--- CRUCE: CATEGORÍA vs. INTERVALOS DE PRECIO (DISTRIBUCIÓN INTRAGRUPO) ---\n",
      "------------------------------------------------------------------------------------------\n",
      "PRICE            Bajo (5-45)  Medio (45-203)  Alto (203-1200)  Premium (>1200)\n",
      "CATEGORY                                                                      \n",
      "Books                  60.09           39.91             0.00             0.00\n",
      "Clothing                0.00            0.00            79.88            20.12\n",
      "Cosmetics              19.78           80.22             0.00             0.00\n",
      "Food & Beverage       100.00            0.00             0.00             0.00\n",
      "Shoes                   0.00            0.00            19.37            80.63\n",
      "Souvenir               61.71           38.29             0.00             0.00\n",
      "Technology              0.00            0.00            19.72            80.28\n",
      "Toys                   19.83           80.17             0.00             0.00\n",
      "------------------------------------------------------------------------------------------\n"
     ]
    }
   ],
   "source": [
    "print('\\n--- CRUCE: CATEGORÍA vs. INTERVALOS DE PRECIO (DISTRIBUCIÓN INTRAGRUPO) ---')\n",
    "print('-' * 90)\n",
    "frecuencia_precio_categoria = (df_analisis.groupby('CATEGORY')['PRICE'].value_counts(normalize=True).mul(100).unstack(fill_value=0).round(2))\n",
    "print(frecuencia_precio_categoria)\n",
    "print('-' * 90)"
   ]
  },
  {
   "cell_type": "markdown",
   "id": "bf3144a4-e407-4509-bbca-2472c7c29f8b",
   "metadata": {},
   "source": [
    "_Producto del entrecruzamiento de las categorias con los rangos de precio presentes en los tickets, es que podemos\n",
    "decir lo siguiente: _\n",
    "\n",
    "- La comida y bebida lidera la categoria de tickets bajos, seguida por los souvenirs y los libros.\n",
    "- El segmento medio muestra que juguetes y cosmetica se encuentran casi en paridad, liderando este ultimo.\n",
    "- La ropa representa el mayor gasto de rango alto.\n",
    "- El consumo del segmento premium se lo disputan el calzado y la tecnologia, siendo el primero el mas importante (pero por decimas)."
   ]
  },
  {
   "cell_type": "markdown",
   "id": "5722a419-009c-421d-8351-94eaaa3e30d8",
   "metadata": {},
   "source": [
    "                                                  ## VARIABLE CENTROS COMERCIALES\n",
    "\n",
    "_Ahora analicemos cómo se comporta la variable centros comerciales cuando la relacionamos con:_\n",
    "\n",
    "- PRECIOS: ¿Existe algún patrón de monto en los tickets que dependa de los centros comerciales?\n",
    "- CATEGORIA: ¿Hay categorías de productos que se vendan más en un centro que en otro?\n",
    "- MEDIOS DE PAGO: ¿Se observa variación en los medios de pago respecto a los centros comerciales?\n"
   ]
  },
  {
   "cell_type": "code",
   "execution_count": 65,
   "id": "edc5d878-3043-4f60-9822-651cb32c2387",
   "metadata": {},
   "outputs": [
    {
     "name": "stdout",
     "output_type": "stream",
     "text": [
      "\n",
      "--- CRUCE: CENTRO COMERCIAL vs. PRECIO ---\n",
      "------------------------------------------------------------------------------------------\n",
      "PRICE              Bajo (5-45)  Medio (45-203)  Alto (203-1200)  \\\n",
      "SHOPPING MALL                                                     \n",
      "Cevahir AVM              26.59           23.82            30.78   \n",
      "Emaar Square Mall        25.61           24.26            30.22   \n",
      "Forum Istanbul           26.26           24.80            30.10   \n",
      "Istinye Park             26.06           24.45            30.28   \n",
      "Kanyon                   26.21           24.08            30.55   \n",
      "Mall of Istanbul         25.55           24.49            30.54   \n",
      "Metrocity                26.05           24.01            31.20   \n",
      "Metropol AVM             25.90           24.27            30.76   \n",
      "Viaport Outlet           26.09           23.83            30.73   \n",
      "Zorlu Center             25.97           24.18            30.94   \n",
      "\n",
      "PRICE              Premium (>1200)  \n",
      "SHOPPING MALL                       \n",
      "Cevahir AVM                  18.81  \n",
      "Emaar Square Mall            19.91  \n",
      "Forum Istanbul               18.84  \n",
      "Istinye Park                 19.21  \n",
      "Kanyon                       19.16  \n",
      "Mall of Istanbul             19.42  \n",
      "Metrocity                    18.75  \n",
      "Metropol AVM                 19.06  \n",
      "Viaport Outlet               19.35  \n",
      "Zorlu Center                 18.92  \n",
      "==========================================================================================\n",
      "\n",
      "--- CRUCE: CENTRO COMERCIAL vs. CATEGORÍA ---\n",
      "------------------------------------------------------------------------------------------\n",
      "CATEGORY           Books  Clothing  Cosmetics  Food & Beverage  Shoes  \\\n",
      "SHOPPING MALL                                                           \n",
      "Cevahir AVM         5.17     34.64      14.67            15.47   9.82   \n",
      "Emaar Square Mall   4.91     34.32      15.80            14.38  10.35   \n",
      "Forum Istanbul      5.09     34.95      15.56            14.39   9.26   \n",
      "Istinye Park        4.72     34.28      14.91            15.23  10.23   \n",
      "Kanyon              5.11     34.51      15.25            14.67  10.18   \n",
      "Mall of Istanbul    5.14     34.71      15.29            14.83  10.14   \n",
      "Metrocity           5.01     35.09      15.09            14.95   9.71   \n",
      "Metropol AVM        4.68     34.69      15.17            14.93  10.57   \n",
      "Viaport Outlet      5.01     34.76      14.94            14.92  10.11   \n",
      "Zorlu Center        5.14     34.70      15.05            14.78  10.23   \n",
      "\n",
      "CATEGORY           Souvenir  Technology   Toys  \n",
      "SHOPPING MALL                                   \n",
      "Cevahir AVM            4.81        5.13  10.30  \n",
      "Emaar Square Mall      5.13        5.47   9.64  \n",
      "Forum Istanbul         5.28        4.73  10.73  \n",
      "Istinye Park           5.27        4.98  10.38  \n",
      "Kanyon                 5.23        5.03  10.02  \n",
      "Mall of Istanbul       4.75        5.10  10.03  \n",
      "Metrocity              4.92        5.14  10.09  \n",
      "Metropol AVM           5.23        4.57  10.17  \n",
      "Viaport Outlet         4.58        5.21  10.48  \n",
      "Zorlu Center           5.06        4.93  10.11  \n",
      "==========================================================================================\n",
      "\n",
      "--- CRUCE: CENTRO COMERCIAL vs. MÉTODO DE PAGO (PREFERENCIAS) ---\n",
      "------------------------------------------------------------------------------------------\n",
      "PAYMENT METHOD      Cash  Credit Card  Debit Card\n",
      "SHOPPING MALL                                    \n",
      "Cevahir AVM        44.64        35.64       19.72\n",
      "Emaar Square Mall  43.94        35.25       20.81\n",
      "Forum Istanbul     44.13        35.37       20.50\n",
      "Istinye Park       45.35        34.99       19.66\n",
      "Kanyon             44.66        34.89       20.45\n",
      "Mall of Istanbul   44.60        35.20       20.21\n",
      "Metrocity          44.13        35.62       20.25\n",
      "Metropol AVM       44.87        34.65       20.48\n",
      "Viaport Outlet     45.40        35.02       19.58\n",
      "Zorlu Center       45.79        34.68       19.53\n",
      "======================================================================\n"
     ]
    }
   ],
   "source": [
    "frecuencia_precio_mall = (df_analisis.groupby('SHOPPING MALL')['PRICE'].value_counts(normalize=True).mul(100).unstack(fill_value=0).round(2))\n",
    "print('\\n--- CRUCE: CENTRO COMERCIAL vs. PRECIO ---')\n",
    "print('-' * 90)\n",
    "print(frecuencia_precio_mall)\n",
    "print('=' * 90)\n",
    "\n",
    "\n",
    "frecuencia_categoria_mall = (df_analisis.groupby('SHOPPING MALL')['CATEGORY'].value_counts(normalize=True).mul(100).unstack(fill_value=0).round(2))\n",
    "print('\\n--- CRUCE: CENTRO COMERCIAL vs. CATEGORÍA ---')\n",
    "print('-' * 90)\n",
    "print(frecuencia_categoria_mall)\n",
    "print('=' * 90)\n",
    "\n",
    "\n",
    "frecuencia_pago_mall = (df_analisis.groupby('SHOPPING MALL')['PAYMENT METHOD'].value_counts(normalize=True).mul(100).unstack(fill_value=0).round(2))\n",
    "print('\\n--- CRUCE: CENTRO COMERCIAL vs. MÉTODO DE PAGO (PREFERENCIAS) ---')\n",
    "print('-' * 90)\n",
    "print(frecuencia_pago_mall)\n",
    "\n",
    "print('======================================================================')"
   ]
  },
  {
   "cell_type": "markdown",
   "id": "9c2941f1-2075-437a-a2bf-61cb162e0c2a",
   "metadata": {},
   "source": [
    "_ Ahora podemos afirmar que:_\n",
    "\n",
    "- Respecto a los PRECIOS, el Emaar Square Mall es el shopping que mayor tickets Premium tiene, Metro City lidera en el segmento Alto, y el Medio y Bajo   pertenecen a Forum Istanbul. Aun asi hay que recordar que en ninguna categoría la diferencia logra ser de un punto porcentual, con lo cual la     distribución es muy homogénea.\n",
    "\n",
    "-En CATEGORÍAS Cevahir AVM vende más Libros, Comida y Bebida. Metrocity se hace fuerte en Ropa. En Cosmética y Tecnología es el Emaar Square Mall. El Metropol AVM se posiciona en la venta de Calzados. La gente busca Souvenirs en el Forum Istambul mientras que los Juguetes son de Viaport Outlet. \n",
    "\n",
    "-En MEDIOS DE PAGO, el mayor uso de Efectivo se da en el Zorlu Center, mientras que el Cevahir AVM lidera las compras con Crédito y en Debito ese lugar lo ocupa el Emaar Square Mall.\n",
    "\n",
    "_ Como no conocemos Estambul, nos entro la duda sobre los barrios en los que los centros comerciales se encuentran emplazados. Razón por la cual le solicitamos a la IA que nos construyese una tabla donde pudiésemos observar el barrio, a que clase social pertenece y las coordenadas por si deseamos geo localizarlo._\n"
   ]
  },
  {
   "cell_type": "markdown",
   "id": "9d5ceabf-235c-4750-a797-6f6173db9e9f",
   "metadata": {},
   "source": [
    "                                                           # CARGAR DF LOCALIZACIÓN"
   ]
  },
  {
   "cell_type": "code",
   "execution_count": 34,
   "id": "43c7e6f6-3b19-4be5-bf8c-7d145a14bd32",
   "metadata": {},
   "outputs": [],
   "source": [
    "df_localizacion = pd.read_excel('location.xlsx')\n"
   ]
  },
  {
   "cell_type": "markdown",
   "id": "3f4b12b0-3c67-4954-800b-547a99994089",
   "metadata": {},
   "source": [
    "                                                           ## LIMPIEZA DE DATOS"
   ]
  },
  {
   "cell_type": "code",
   "execution_count": 35,
   "id": "af35dcdd-70d7-4ea7-9770-1b5ce23ab1b5",
   "metadata": {},
   "outputs": [
    {
     "data": {
      "text/html": [
       "<div>\n",
       "<style scoped>\n",
       "    .dataframe tbody tr th:only-of-type {\n",
       "        vertical-align: middle;\n",
       "    }\n",
       "\n",
       "    .dataframe tbody tr th {\n",
       "        vertical-align: top;\n",
       "    }\n",
       "\n",
       "    .dataframe thead th {\n",
       "        text-align: right;\n",
       "    }\n",
       "</style>\n",
       "<table border=\"1\" class=\"dataframe\">\n",
       "  <thead>\n",
       "    <tr style=\"text-align: right;\">\n",
       "      <th></th>\n",
       "      <th>shopping_mall</th>\n",
       "      <th>distrito</th>\n",
       "      <th>rating</th>\n",
       "      <th>lat</th>\n",
       "      <th>lon</th>\n",
       "      <th>perfil_socioeconómico</th>\n",
       "      <th>descripcion</th>\n",
       "    </tr>\n",
       "  </thead>\n",
       "  <tbody>\n",
       "    <tr>\n",
       "      <th>0</th>\n",
       "      <td>Cevahir AVM</td>\n",
       "      <td>Şişli</td>\n",
       "      <td>4.2</td>\n",
       "      <td>410632</td>\n",
       "      <td>289925</td>\n",
       "      <td>Medio / Masivo</td>\n",
       "      <td>A pesar de su ubicación, está diseñado para at...</td>\n",
       "    </tr>\n",
       "    <tr>\n",
       "      <th>1</th>\n",
       "      <td>Emaar Square Mall</td>\n",
       "      <td>Üsküdar</td>\n",
       "      <td>4.4</td>\n",
       "      <td>410035</td>\n",
       "      <td>290713</td>\n",
       "      <td>Alto / Clase Media-Alta</td>\n",
       "      <td>Atiende a la población de alto poder adquisiti...</td>\n",
       "    </tr>\n",
       "    <tr>\n",
       "      <th>2</th>\n",
       "      <td>Forum Istanbul</td>\n",
       "      <td>Bayrampaşa</td>\n",
       "      <td>4.1</td>\n",
       "      <td>410466</td>\n",
       "      <td>28897</td>\n",
       "      <td>Medio / Masivo</td>\n",
       "      <td>Ubicado en barrios interiores, diseñado para u...</td>\n",
       "    </tr>\n",
       "    <tr>\n",
       "      <th>3</th>\n",
       "      <td>İstinye Park</td>\n",
       "      <td>Sarıyer</td>\n",
       "      <td>4.5</td>\n",
       "      <td>411105</td>\n",
       "      <td>290332</td>\n",
       "      <td>Muy Alto / Lujo</td>\n",
       "      <td>Uno de los distritos más ricos y exclusivos de...</td>\n",
       "    </tr>\n",
       "    <tr>\n",
       "      <th>4</th>\n",
       "      <td>Kanyon</td>\n",
       "      <td>Şişli / Levent</td>\n",
       "      <td>4.3</td>\n",
       "      <td>410782</td>\n",
       "      <td>290173</td>\n",
       "      <td>Alto / Ejecutivos</td>\n",
       "      <td>Integrado en el principal distrito financiero.</td>\n",
       "    </tr>\n",
       "  </tbody>\n",
       "</table>\n",
       "</div>"
      ],
      "text/plain": [
       "       shopping_mall        distrito  rating     lat     lon  \\\n",
       "0        Cevahir AVM           Şişli     4.2  410632  289925   \n",
       "1  Emaar Square Mall         Üsküdar     4.4  410035  290713   \n",
       "2     Forum Istanbul      Bayrampaşa     4.1  410466   28897   \n",
       "3       İstinye Park         Sarıyer     4.5  411105  290332   \n",
       "4             Kanyon  Şişli / Levent     4.3  410782  290173   \n",
       "\n",
       "     perfil_socioeconómico                                        descripcion  \n",
       "0           Medio / Masivo  A pesar de su ubicación, está diseñado para at...  \n",
       "1  Alto / Clase Media-Alta  Atiende a la población de alto poder adquisiti...  \n",
       "2           Medio / Masivo  Ubicado en barrios interiores, diseñado para u...  \n",
       "3          Muy Alto / Lujo  Uno de los distritos más ricos y exclusivos de...  \n",
       "4        Alto / Ejecutivos     Integrado en el principal distrito financiero.  "
      ]
     },
     "execution_count": 35,
     "metadata": {},
     "output_type": "execute_result"
    }
   ],
   "source": [
    "df_localizacion.head()\n"
   ]
  },
  {
   "cell_type": "code",
   "execution_count": 68,
   "id": "05ef2d9b-0a4f-4d7f-9f0f-706e6a61265b",
   "metadata": {},
   "outputs": [
    {
     "data": {
      "text/plain": [
       "Index(['shopping_mall', 'distrito', 'rating', 'lat', 'lon',\n",
       "       'perfil_socioeconómico', 'descripcion'],\n",
       "      dtype='object')"
      ]
     },
     "execution_count": 68,
     "metadata": {},
     "output_type": "execute_result"
    }
   ],
   "source": [
    "df_localizacion.columns"
   ]
  },
  {
   "cell_type": "code",
   "execution_count": 69,
   "id": "9ef166f2-e0cf-4181-bc7d-75812cd9f62f",
   "metadata": {},
   "outputs": [
    {
     "ename": "SyntaxError",
     "evalue": "invalid syntax (2347520269.py, line 1)",
     "output_type": "error",
     "traceback": [
      "\u001b[1;36m  Cell \u001b[1;32mIn[69], line 1\u001b[1;36m\u001b[0m\n\u001b[1;33m    - Cambiar nombre de columnas en español por ingles.\u001b[0m\n\u001b[1;37m              ^\u001b[0m\n\u001b[1;31mSyntaxError\u001b[0m\u001b[1;31m:\u001b[0m invalid syntax\n"
     ]
    }
   ],
   "source": [
    "- Cambiar nombre de columnas en español por ingles.\n",
    "- Poner todo en mayuscula.\n",
    "- Reemplazar guiones bajos por espacios."
   ]
  },
  {
   "cell_type": "code",
   "execution_count": 70,
   "id": "9acd7c4a-4520-4aa5-8428-d795850695db",
   "metadata": {},
   "outputs": [
    {
     "name": "stdout",
     "output_type": "stream",
     "text": [
      "Index(['SHOPPING MALL', 'DISTRICT', 'RATING', 'LAT', 'LON',\n",
      "       'SOCIOECONOMIC PROFILE', 'DESCRIPTION'],\n",
      "      dtype='object')\n"
     ]
    }
   ],
   "source": [
    "nuevos_nombres_en_ingles = ['SHOPPING_MALL', 'DISTRICT', 'RATING', 'LAT', 'LON', 'SOCIOECONOMIC_PROFILE', 'DESCRIPTION']\n",
    "df_localizacion.columns = nuevos_nombres_en_ingles\n",
    "df_localizacion.columns = [col.upper().replace('_', ' ') for col in df_localizacion.columns]\n",
    "print(df_localizacion.columns)"
   ]
  },
  {
   "cell_type": "code",
   "execution_count": 71,
   "id": "129c413d-38f8-4bc2-9e36-77e6c3ca90a5",
   "metadata": {},
   "outputs": [
    {
     "data": {
      "text/html": [
       "<div>\n",
       "<style scoped>\n",
       "    .dataframe tbody tr th:only-of-type {\n",
       "        vertical-align: middle;\n",
       "    }\n",
       "\n",
       "    .dataframe tbody tr th {\n",
       "        vertical-align: top;\n",
       "    }\n",
       "\n",
       "    .dataframe thead th {\n",
       "        text-align: right;\n",
       "    }\n",
       "</style>\n",
       "<table border=\"1\" class=\"dataframe\">\n",
       "  <thead>\n",
       "    <tr style=\"text-align: right;\">\n",
       "      <th></th>\n",
       "      <th>SHOPPING MALL</th>\n",
       "      <th>DISTRICT</th>\n",
       "      <th>RATING</th>\n",
       "      <th>LAT</th>\n",
       "      <th>LON</th>\n",
       "      <th>SOCIOECONOMIC PROFILE</th>\n",
       "      <th>DESCRIPTION</th>\n",
       "    </tr>\n",
       "  </thead>\n",
       "  <tbody>\n",
       "    <tr>\n",
       "      <th>0</th>\n",
       "      <td>Cevahir AVM</td>\n",
       "      <td>Şişli</td>\n",
       "      <td>4.2</td>\n",
       "      <td>410632</td>\n",
       "      <td>289925</td>\n",
       "      <td>Medio / Masivo</td>\n",
       "      <td>A pesar de su ubicación, está diseñado para at...</td>\n",
       "    </tr>\n",
       "    <tr>\n",
       "      <th>1</th>\n",
       "      <td>Emaar Square Mall</td>\n",
       "      <td>Üsküdar</td>\n",
       "      <td>4.4</td>\n",
       "      <td>410035</td>\n",
       "      <td>290713</td>\n",
       "      <td>Alto / Clase Media-Alta</td>\n",
       "      <td>Atiende a la población de alto poder adquisiti...</td>\n",
       "    </tr>\n",
       "    <tr>\n",
       "      <th>2</th>\n",
       "      <td>Forum Istanbul</td>\n",
       "      <td>Bayrampaşa</td>\n",
       "      <td>4.1</td>\n",
       "      <td>410466</td>\n",
       "      <td>28897</td>\n",
       "      <td>Medio / Masivo</td>\n",
       "      <td>Ubicado en barrios interiores, diseñado para u...</td>\n",
       "    </tr>\n",
       "    <tr>\n",
       "      <th>3</th>\n",
       "      <td>İstinye Park</td>\n",
       "      <td>Sarıyer</td>\n",
       "      <td>4.5</td>\n",
       "      <td>411105</td>\n",
       "      <td>290332</td>\n",
       "      <td>Muy Alto / Lujo</td>\n",
       "      <td>Uno de los distritos más ricos y exclusivos de...</td>\n",
       "    </tr>\n",
       "    <tr>\n",
       "      <th>4</th>\n",
       "      <td>Kanyon</td>\n",
       "      <td>Şişli / Levent</td>\n",
       "      <td>4.3</td>\n",
       "      <td>410782</td>\n",
       "      <td>290173</td>\n",
       "      <td>Alto / Ejecutivos</td>\n",
       "      <td>Integrado en el principal distrito financiero.</td>\n",
       "    </tr>\n",
       "  </tbody>\n",
       "</table>\n",
       "</div>"
      ],
      "text/plain": [
       "       SHOPPING MALL        DISTRICT  RATING     LAT     LON  \\\n",
       "0        Cevahir AVM           Şişli     4.2  410632  289925   \n",
       "1  Emaar Square Mall         Üsküdar     4.4  410035  290713   \n",
       "2     Forum Istanbul      Bayrampaşa     4.1  410466   28897   \n",
       "3       İstinye Park         Sarıyer     4.5  411105  290332   \n",
       "4             Kanyon  Şişli / Levent     4.3  410782  290173   \n",
       "\n",
       "     SOCIOECONOMIC PROFILE                                        DESCRIPTION  \n",
       "0           Medio / Masivo  A pesar de su ubicación, está diseñado para at...  \n",
       "1  Alto / Clase Media-Alta  Atiende a la población de alto poder adquisiti...  \n",
       "2           Medio / Masivo  Ubicado en barrios interiores, diseñado para u...  \n",
       "3          Muy Alto / Lujo  Uno de los distritos más ricos y exclusivos de...  \n",
       "4        Alto / Ejecutivos     Integrado en el principal distrito financiero.  "
      ]
     },
     "execution_count": 71,
     "metadata": {},
     "output_type": "execute_result"
    }
   ],
   "source": [
    "df_localizacion.head()"
   ]
  },
  {
   "cell_type": "markdown",
   "id": "90f22c45-7820-4729-87f0-4d2cce6a7a40",
   "metadata": {},
   "source": [
    "                               ## ANALISIS DE CENTRO COMERCIAL RESPECTO A DISTRITO Y PERFIL SOCIOECONOMICO"
   ]
  },
  {
   "cell_type": "code",
   "execution_count": 72,
   "id": "3cb15bde-b3ce-4cbd-a40f-7ddee17870b9",
   "metadata": {},
   "outputs": [
    {
     "name": "stdout",
     "output_type": "stream",
     "text": [
      "======================================================================\n",
      "        CRUCE: CENTRO COMERCIAL, DISTRITO y PERFIL SOCIOECONÓMICO\n",
      "======================================================================\n",
      "       SHOPPING MALL        DISTRICT                SOCIOECONOMIC PROFILE\n",
      "0        Cevahir AVM           Şişli                       Medio / Masivo\n",
      "1  Emaar Square Mall         Üsküdar              Alto / Clase Media-Alta\n",
      "2     Forum Istanbul      Bayrampaşa                       Medio / Masivo\n",
      "3       İstinye Park         Sarıyer                      Muy Alto / Lujo\n",
      "4             Kanyon  Şişli / Levent                    Alto / Ejecutivos\n",
      "5   Mall of Istanbul      Başakşehir                           Media-Alta\n",
      "6          Metrocity        Beşiktaş                           Medio-Alto\n",
      "7       Metropol AVM        Ataşehir  Alto / Clase Media-Alta (Nuevo Hub)\n",
      "8     Viaport Outlet          Pendik            Medio / Precio Consciente\n",
      "9       Zorlu Center        Beşiktaş                      Muy Alto / Lujo\n",
      "======================================================================\n"
     ]
    }
   ],
   "source": [
    "cruce_localizacion_socioeconomico = df_localizacion[['SHOPPING MALL','DISTRICT','SOCIOECONOMIC PROFILE']]\n",
    "print('======================================================================')\n",
    "print('        CRUCE: CENTRO COMERCIAL, DISTRITO y PERFIL SOCIOECONÓMICO')\n",
    "print('======================================================================')\n",
    "print(cruce_localizacion_socioeconomico)\n",
    "print('======================================================================')"
   ]
  },
  {
   "cell_type": "markdown",
   "id": "3f599f86-7221-4e0b-a7f3-9f163a9af72a",
   "metadata": {},
   "source": [
    "_ Con el dato del nivel socioeconómico donde se encuentran los shoppings es que nos entra la duda de porque los tickets Premium estan liderados por el Emaar Square Mall siendo que el Zorlu Center y el İstinye Park son los que se encuentran en distritos de lujo (inferimos que es porque el muestreo no esta realizado de manera correcta). \n",
    "En el caso del Forum Istanbul, nuestro analisis anterior si se condice con lo que nos informa el dt_localizacion y los mismo aplica para el Metro City _"
   ]
  },
  {
   "cell_type": "markdown",
   "id": "956640f0-8db5-47e3-9a92-018dc1dc476f",
   "metadata": {},
   "source": [
    "                     ## UNIR DISTRICT Y SOCIOECONOMIC PROFILE AL DF_ANALISIS Y EXPORTARLO A UN ARCHIVO .CSV"
   ]
  },
  {
   "cell_type": "code",
   "execution_count": 73,
   "id": "05ce6cfb-14e5-458b-90ca-c6db150b860e",
   "metadata": {},
   "outputs": [],
   "source": [
    "#df_info_a_unir = df_localizacion[['SHOPPING MALL', 'DISTRICT', 'SOCIOECONOMIC PROFILE']].copy()\n",
    "#df_analisis_final = pd.merge(df_analisis, df_info_a_unir, on='SHOPPING MALL', how='left')\n",
    "#nombre_archivo = 'df_analisis_con_localizacion.csv'\n",
    "#df_analisis_final.to_csv(nombre_archivo,index=False, encoding='utf-8')#"
   ]
  },
  {
   "cell_type": "code",
   "execution_count": 74,
   "id": "04205bfd-6589-4e9f-97aa-e8e30a90a381",
   "metadata": {},
   "outputs": [
    {
     "name": "stdout",
     "output_type": "stream",
     "text": [
      "Columnas de df_localizacion renombradas a LATITUD y LONGITUD.\n",
      "Fusión completada. El DataFrame final contiene coordenadas.\n",
      "\n",
      "--- ¡ETL COMPLETO! Archivo final 'df_analisis_final_con_geo.csv' exportado, listo para Power BI y MySQL. ---\n",
      "          SHOPPING MALL        DISTRICT   LATITUD  LONGITUD\n",
      "52070      Metropol AVM        Ataşehir   40994.0  291226.0\n",
      "93143            Kanyon  Şişli / Levent  410782.0  290173.0\n",
      "37053      Zorlu Center        Beşiktaş  410671.0  290155.0\n",
      "88939  Mall of Istanbul      Başakşehir  410626.0  288075.0\n",
      "1929             Kanyon  Şişli / Levent  410782.0  290173.0\n"
     ]
    }
   ],
   "source": [
    "#Renombrar las columnas de coordenadas en df_localizacion para estandarizarlas\n",
    "df_localizacion.rename(columns={'LAT': 'LATITUD', 'LON': 'LONGITUD'}, inplace=True)\n",
    "print(\"Columnas de df_localizacion renombradas a LATITUD y LONGITUD.\")\n",
    "\n",
    "#Definir la información a unir (incluyendo coordenadas)\n",
    "columnas_enriquecimiento = ['SHOPPING MALL', 'DISTRICT', 'SOCIOECONOMIC PROFILE', 'LATITUD', 'LONGITUD']\n",
    "df_info_a_unir = df_localizacion[columnas_enriquecimiento].copy()\n",
    "\n",
    "# Fusión de los datos de análisis con la localización\n",
    "df_analisis_final = pd.merge(\n",
    "    df_analisis, \n",
    "    df_info_a_unir, \n",
    "    on='SHOPPING MALL', \n",
    "    how='left'\n",
    ")\n",
    "print(\"Fusión completada. El DataFrame final contiene coordenadas.\")\n",
    "\n",
    "#Limpieza de Coordenadas\n",
    "# Aseguramos que los campos de coordenadas sean numéricos.\n",
    "df_analisis_final['LATITUD'] = pd.to_numeric(df_analisis_final['LATITUD'], errors='coerce')\n",
    "df_analisis_final['LONGITUD'] = pd.to_numeric(df_analisis_final['LONGITUD'], errors='coerce')\n",
    "\n",
    "\n",
    "#Exportar el DataFrame Final Limpio y Enriquecido\n",
    "nombre_archivo_final = 'df_analisis_final_con_geo.csv'\n",
    "df_analisis_final.to_csv(nombre_archivo_final, index=False, encoding='utf-8') \n",
    "\n",
    "print(f\"\\n--- ¡ETL COMPLETO! Archivo final '{nombre_archivo_final}' exportado, listo para Power BI y MySQL. ---\")\n",
    "print(df_analisis_final[['SHOPPING MALL', 'DISTRICT', 'LATITUD', 'LONGITUD']].sample(5))"
   ]
  },
  {
   "cell_type": "code",
   "execution_count": 75,
   "id": "b000944a-727e-4519-b4b1-ca52953391d2",
   "metadata": {},
   "outputs": [
    {
     "name": "stdout",
     "output_type": "stream",
     "text": [
      "      CUSTOMER ID  GENDER PAYMENT METHOD         CATEGORY  QUANTITY  \\\n",
      "0         C100004    Male    Credit Card         Clothing         5   \n",
      "1         C100005    Male           Cash            Shoes         2   \n",
      "2         C100006    Male    Credit Card             Toys         3   \n",
      "3         C100012    Male           Cash  Food & Beverage         5   \n",
      "4         C100019  Female    Credit Card             Toys         1   \n",
      "...           ...     ...            ...              ...       ...   \n",
      "99452     C999886    Male     Debit Card  Food & Beverage         3   \n",
      "99453     C999910    Male     Debit Card            Books         3   \n",
      "99454     C999974  Female           Cash         Clothing         5   \n",
      "99455     C999976  Female     Debit Card             Toys         3   \n",
      "99456     C999995  Female           Cash         Clothing         2   \n",
      "\n",
      "      INVOICE DATE     SHOPPING MALL           AGE            PRICE  \\\n",
      "0       26-11-2021         Metrocity  58 - 70 Años  Premium (>1200)   \n",
      "1       03-03-2023            Kanyon  28 - 37 Años  Premium (>1200)   \n",
      "2       01-12-2022       Cevahir AVM  38 - 47 Años   Medio (45-203)   \n",
      "3       15-08-2021            Kanyon  18 - 27 Años      Bajo (5-45)   \n",
      "4       25-07-2021         Metrocity  18 - 27 Años      Bajo (5-45)   \n",
      "...            ...               ...           ...              ...   \n",
      "99452   08-03-2023            Kanyon  58 - 70 Años      Bajo (5-45)   \n",
      "99453   05-11-2022  Mall of Istanbul  38 - 47 Años      Bajo (5-45)   \n",
      "99454   10-05-2022    Forum Istanbul  28 - 37 Años  Premium (>1200)   \n",
      "99455   20-06-2022         Metrocity  48 - 57 Años   Medio (45-203)   \n",
      "99456   30-07-2021            Kanyon  48 - 57 Años  Alto (203-1200)   \n",
      "\n",
      "             DISTRICT SOCIOECONOMIC PROFILE  \n",
      "0            Beşiktaş            Medio-Alto  \n",
      "1      Şişli / Levent     Alto / Ejecutivos  \n",
      "2               Şişli        Medio / Masivo  \n",
      "3      Şişli / Levent     Alto / Ejecutivos  \n",
      "4            Beşiktaş            Medio-Alto  \n",
      "...               ...                   ...  \n",
      "99452  Şişli / Levent     Alto / Ejecutivos  \n",
      "99453      Başakşehir            Media-Alta  \n",
      "99454      Bayrampaşa        Medio / Masivo  \n",
      "99455        Beşiktaş            Medio-Alto  \n",
      "99456  Şişli / Levent     Alto / Ejecutivos  \n",
      "\n",
      "[99457 rows x 11 columns]\n"
     ]
    }
   ],
   "source": [
    "df_exportado = pd.read_csv('df_analisis_con_localizacion.csv')\n",
    "print(df_exportado)"
   ]
  },
  {
   "cell_type": "markdown",
   "id": "95a0d44c-f381-4c5f-847e-15c8b9e3fb50",
   "metadata": {},
   "source": [
    "_ ACLARACION: Conservar la columna de la fecha de recibo no ha sido un error ni un descuido. La dejamos ya que si quisieramos ver si ha habido\n",
    "modificaciones respecto a los patrones de consumo en el tiempo, la fecha de los recibos puede resultar util. _"
   ]
  },
  {
   "cell_type": "code",
   "execution_count": 76,
   "id": "2c650123-f769-4dcf-bc51-0019c567615c",
   "metadata": {},
   "outputs": [
    {
     "name": "stdout",
     "output_type": "stream",
     "text": [
      "Requirement already satisfied: pymysql in c:\\users\\piafa\\anaconda3\\lib\\site-packages (1.1.2)\n",
      "Requirement already satisfied: mysql-connector-python in c:\\users\\piafa\\anaconda3\\lib\\site-packages (9.4.0)\n"
     ]
    }
   ],
   "source": [
    "#Instalación del paquete que permite la conexión con MySQL\n",
    "!pip install pymysql\n",
    "!pip install mysql-connector-python"
   ]
  },
  {
   "cell_type": "code",
   "execution_count": 77,
   "id": "c24e0cfd-2121-430e-9947-836c18a585e4",
   "metadata": {},
   "outputs": [],
   "source": [
    "#Importar módulos\n",
    "import pandas as pd\n",
    "from sqlalchemy import create_engine \n",
    "import mysql.connector"
   ]
  },
  {
   "cell_type": "code",
   "execution_count": 78,
   "id": "d92b7b70-8995-4a7a-95bd-bf8c8497ea8d",
   "metadata": {},
   "outputs": [
    {
     "name": "stdout",
     "output_type": "stream",
     "text": [
      "Conexión con SQLAlchemy establecida.\n"
     ]
    }
   ],
   "source": [
    "# Datos de conexión\n",
    "USUARIO = \"root\"\n",
    "CONTRASEÑA = \"Argentina2025!!\"\n",
    "HOST = \"localhost\"\n",
    "PUERTO = \"3306\"\n",
    "BASE_DE_DATOS = \"innovacion1\"\n",
    "TABLA_DESTINO = \"ventas1_temp\"\n",
    "\n",
    "# Crear la URL de conexión\n",
    "DATABASE_URL = f\"mysql+mysqlconnector://{USUARIO}:{CONTRASEÑA}@{HOST}:{PUERTO}/{BASE_DE_DATOS}\"\n",
    "\n",
    "# El motor de conexión está creado, lo redefinimos por si acaso\n",
    "try:\n",
    "    engine = create_engine(DATABASE_URL)\n",
    "    print(\"Conexión con SQLAlchemy establecida.\")\n",
    "except Exception as e:\n",
    "    print(f\"Error al conectar: {e}\")\n",
    "    exit()\n"
   ]
  },
  {
   "cell_type": "code",
   "execution_count": 79,
   "id": "31394bf6-72e4-4962-9491-00ef4b61757e",
   "metadata": {},
   "outputs": [
    {
     "name": "stdout",
     "output_type": "stream",
     "text": [
      "Iniciando carga del DataFrame en innovacion1.ventas1_temp...\n",
      "\n",
      "✔ ¡Carga exitosa! Se cargaron 99457 registros en innovacion1.ventas1_temp\n"
     ]
    }
   ],
   "source": [
    "#Carga del dataframe\n",
    "try:\n",
    "    print(f\"Iniciando carga del DataFrame en {BASE_DE_DATOS}.{TABLA_DESTINO}...\")\n",
    "    \n",
    "    # Usamos df_analisis_final\n",
    "    df_analisis_final.to_sql( \n",
    "        name=TABLA_DESTINO,\n",
    "        con=engine,\n",
    "        if_exists='replace', \n",
    "        index=False,\n",
    "    )\n",
    "    # len(df_analisis_final) cuenta las filas\n",
    "    print(f\"\\n✔ ¡Carga exitosa! Se cargaron {len(df_analisis_final)} registros en {BASE_DE_DATOS}.{TABLA_DESTINO}\")\n",
    "    \n",
    "except Exception as e:\n",
    "    print(f\"\\n✖ Error durante la carga a SQL: {e}\")"
   ]
  },
  {
   "cell_type": "code",
   "execution_count": null,
   "id": "a02fa905-0d06-4165-8618-d8a8ef2d40cc",
   "metadata": {},
   "outputs": [],
   "source": []
  }
 ],
 "metadata": {
  "colab": {
   "provenance": []
  },
  "kernelspec": {
   "display_name": "Python [conda env:base] *",
   "language": "python",
   "name": "conda-base-py"
  },
  "language_info": {
   "codemirror_mode": {
    "name": "ipython",
    "version": 3
   },
   "file_extension": ".py",
   "mimetype": "text/x-python",
   "name": "python",
   "nbconvert_exporter": "python",
   "pygments_lexer": "ipython3",
   "version": "3.13.5"
  }
 },
 "nbformat": 4,
 "nbformat_minor": 5
}
